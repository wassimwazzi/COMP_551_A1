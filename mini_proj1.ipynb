{
 "cells": [
  {
   "cell_type": "markdown",
   "id": "1d2f6160",
   "metadata": {},
   "source": [
    "# Applied Machine Learning: Mini Project 1 - Group 46"
   ]
  },
  {
   "cell_type": "markdown",
   "id": "1cf327d5",
   "metadata": {},
   "source": [
    "## Dataset 1: Adult Dataset"
   ]
  },
  {
   "cell_type": "markdown",
   "id": "92865918",
   "metadata": {},
   "source": [
    "For the first part of the project, we begin our analysis on the provided Adult dataset. \n",
    "<br>Most of our helper functions can be found in the ***tools.py*** file.\n",
    "<br>We start by importing the dataset and storing the equivalent data in Pandas Dataframes:"
   ]
  },
  {
   "cell_type": "code",
   "execution_count": 1,
   "id": "f085c81c",
   "metadata": {},
   "outputs": [
    {
     "data": {
      "text/html": [
       "<div>\n",
       "<style scoped>\n",
       "    .dataframe tbody tr th:only-of-type {\n",
       "        vertical-align: middle;\n",
       "    }\n",
       "\n",
       "    .dataframe tbody tr th {\n",
       "        vertical-align: top;\n",
       "    }\n",
       "\n",
       "    .dataframe thead th {\n",
       "        text-align: right;\n",
       "    }\n",
       "</style>\n",
       "<table border=\"1\" class=\"dataframe\">\n",
       "  <thead>\n",
       "    <tr style=\"text-align: right;\">\n",
       "      <th></th>\n",
       "      <th>age</th>\n",
       "      <th>workclass</th>\n",
       "      <th>fnlwgt</th>\n",
       "      <th>education</th>\n",
       "      <th>education-num</th>\n",
       "      <th>marital-status</th>\n",
       "      <th>occupation</th>\n",
       "      <th>relationship</th>\n",
       "      <th>race</th>\n",
       "      <th>sex</th>\n",
       "      <th>capital-gain</th>\n",
       "      <th>capital-loss</th>\n",
       "      <th>hours-per-week</th>\n",
       "      <th>native-country</th>\n",
       "      <th>label</th>\n",
       "    </tr>\n",
       "  </thead>\n",
       "  <tbody>\n",
       "    <tr>\n",
       "      <th>0</th>\n",
       "      <td>50</td>\n",
       "      <td>Self-emp-not-inc</td>\n",
       "      <td>83311</td>\n",
       "      <td>Bachelors</td>\n",
       "      <td>13</td>\n",
       "      <td>Married-civ-spouse</td>\n",
       "      <td>Exec-managerial</td>\n",
       "      <td>Husband</td>\n",
       "      <td>White</td>\n",
       "      <td>Male</td>\n",
       "      <td>0</td>\n",
       "      <td>0</td>\n",
       "      <td>13</td>\n",
       "      <td>United-States</td>\n",
       "      <td>&lt;=50K</td>\n",
       "    </tr>\n",
       "    <tr>\n",
       "      <th>1</th>\n",
       "      <td>38</td>\n",
       "      <td>Private</td>\n",
       "      <td>215646</td>\n",
       "      <td>HS-grad</td>\n",
       "      <td>9</td>\n",
       "      <td>Divorced</td>\n",
       "      <td>Handlers-cleaners</td>\n",
       "      <td>Not-in-family</td>\n",
       "      <td>White</td>\n",
       "      <td>Male</td>\n",
       "      <td>0</td>\n",
       "      <td>0</td>\n",
       "      <td>40</td>\n",
       "      <td>United-States</td>\n",
       "      <td>&lt;=50K</td>\n",
       "    </tr>\n",
       "    <tr>\n",
       "      <th>2</th>\n",
       "      <td>53</td>\n",
       "      <td>Private</td>\n",
       "      <td>234721</td>\n",
       "      <td>11th</td>\n",
       "      <td>7</td>\n",
       "      <td>Married-civ-spouse</td>\n",
       "      <td>Handlers-cleaners</td>\n",
       "      <td>Husband</td>\n",
       "      <td>Black</td>\n",
       "      <td>Male</td>\n",
       "      <td>0</td>\n",
       "      <td>0</td>\n",
       "      <td>40</td>\n",
       "      <td>United-States</td>\n",
       "      <td>&lt;=50K</td>\n",
       "    </tr>\n",
       "    <tr>\n",
       "      <th>3</th>\n",
       "      <td>28</td>\n",
       "      <td>Private</td>\n",
       "      <td>338409</td>\n",
       "      <td>Bachelors</td>\n",
       "      <td>13</td>\n",
       "      <td>Married-civ-spouse</td>\n",
       "      <td>Prof-specialty</td>\n",
       "      <td>Wife</td>\n",
       "      <td>Black</td>\n",
       "      <td>Female</td>\n",
       "      <td>0</td>\n",
       "      <td>0</td>\n",
       "      <td>40</td>\n",
       "      <td>Cuba</td>\n",
       "      <td>&lt;=50K</td>\n",
       "    </tr>\n",
       "    <tr>\n",
       "      <th>4</th>\n",
       "      <td>37</td>\n",
       "      <td>Private</td>\n",
       "      <td>284582</td>\n",
       "      <td>Masters</td>\n",
       "      <td>14</td>\n",
       "      <td>Married-civ-spouse</td>\n",
       "      <td>Exec-managerial</td>\n",
       "      <td>Wife</td>\n",
       "      <td>White</td>\n",
       "      <td>Female</td>\n",
       "      <td>0</td>\n",
       "      <td>0</td>\n",
       "      <td>40</td>\n",
       "      <td>United-States</td>\n",
       "      <td>&lt;=50K</td>\n",
       "    </tr>\n",
       "    <tr>\n",
       "      <th>...</th>\n",
       "      <td>...</td>\n",
       "      <td>...</td>\n",
       "      <td>...</td>\n",
       "      <td>...</td>\n",
       "      <td>...</td>\n",
       "      <td>...</td>\n",
       "      <td>...</td>\n",
       "      <td>...</td>\n",
       "      <td>...</td>\n",
       "      <td>...</td>\n",
       "      <td>...</td>\n",
       "      <td>...</td>\n",
       "      <td>...</td>\n",
       "      <td>...</td>\n",
       "      <td>...</td>\n",
       "    </tr>\n",
       "    <tr>\n",
       "      <th>32555</th>\n",
       "      <td>27</td>\n",
       "      <td>Private</td>\n",
       "      <td>257302</td>\n",
       "      <td>Assoc-acdm</td>\n",
       "      <td>12</td>\n",
       "      <td>Married-civ-spouse</td>\n",
       "      <td>Tech-support</td>\n",
       "      <td>Wife</td>\n",
       "      <td>White</td>\n",
       "      <td>Female</td>\n",
       "      <td>0</td>\n",
       "      <td>0</td>\n",
       "      <td>38</td>\n",
       "      <td>United-States</td>\n",
       "      <td>&lt;=50K</td>\n",
       "    </tr>\n",
       "    <tr>\n",
       "      <th>32556</th>\n",
       "      <td>40</td>\n",
       "      <td>Private</td>\n",
       "      <td>154374</td>\n",
       "      <td>HS-grad</td>\n",
       "      <td>9</td>\n",
       "      <td>Married-civ-spouse</td>\n",
       "      <td>Machine-op-inspct</td>\n",
       "      <td>Husband</td>\n",
       "      <td>White</td>\n",
       "      <td>Male</td>\n",
       "      <td>0</td>\n",
       "      <td>0</td>\n",
       "      <td>40</td>\n",
       "      <td>United-States</td>\n",
       "      <td>&gt;50K</td>\n",
       "    </tr>\n",
       "    <tr>\n",
       "      <th>32557</th>\n",
       "      <td>58</td>\n",
       "      <td>Private</td>\n",
       "      <td>151910</td>\n",
       "      <td>HS-grad</td>\n",
       "      <td>9</td>\n",
       "      <td>Widowed</td>\n",
       "      <td>Adm-clerical</td>\n",
       "      <td>Unmarried</td>\n",
       "      <td>White</td>\n",
       "      <td>Female</td>\n",
       "      <td>0</td>\n",
       "      <td>0</td>\n",
       "      <td>40</td>\n",
       "      <td>United-States</td>\n",
       "      <td>&lt;=50K</td>\n",
       "    </tr>\n",
       "    <tr>\n",
       "      <th>32558</th>\n",
       "      <td>22</td>\n",
       "      <td>Private</td>\n",
       "      <td>201490</td>\n",
       "      <td>HS-grad</td>\n",
       "      <td>9</td>\n",
       "      <td>Never-married</td>\n",
       "      <td>Adm-clerical</td>\n",
       "      <td>Own-child</td>\n",
       "      <td>White</td>\n",
       "      <td>Male</td>\n",
       "      <td>0</td>\n",
       "      <td>0</td>\n",
       "      <td>20</td>\n",
       "      <td>United-States</td>\n",
       "      <td>&lt;=50K</td>\n",
       "    </tr>\n",
       "    <tr>\n",
       "      <th>32559</th>\n",
       "      <td>52</td>\n",
       "      <td>Self-emp-inc</td>\n",
       "      <td>287927</td>\n",
       "      <td>HS-grad</td>\n",
       "      <td>9</td>\n",
       "      <td>Married-civ-spouse</td>\n",
       "      <td>Exec-managerial</td>\n",
       "      <td>Wife</td>\n",
       "      <td>White</td>\n",
       "      <td>Female</td>\n",
       "      <td>15024</td>\n",
       "      <td>0</td>\n",
       "      <td>40</td>\n",
       "      <td>United-States</td>\n",
       "      <td>&gt;50K</td>\n",
       "    </tr>\n",
       "  </tbody>\n",
       "</table>\n",
       "<p>32560 rows × 15 columns</p>\n",
       "</div>"
      ],
      "text/plain": [
       "       age          workclass  fnlwgt    education  education-num  \\\n",
       "0       50   Self-emp-not-inc   83311    Bachelors             13   \n",
       "1       38            Private  215646      HS-grad              9   \n",
       "2       53            Private  234721         11th              7   \n",
       "3       28            Private  338409    Bachelors             13   \n",
       "4       37            Private  284582      Masters             14   \n",
       "...    ...                ...     ...          ...            ...   \n",
       "32555   27            Private  257302   Assoc-acdm             12   \n",
       "32556   40            Private  154374      HS-grad              9   \n",
       "32557   58            Private  151910      HS-grad              9   \n",
       "32558   22            Private  201490      HS-grad              9   \n",
       "32559   52       Self-emp-inc  287927      HS-grad              9   \n",
       "\n",
       "            marital-status          occupation    relationship    race  \\\n",
       "0       Married-civ-spouse     Exec-managerial         Husband   White   \n",
       "1                 Divorced   Handlers-cleaners   Not-in-family   White   \n",
       "2       Married-civ-spouse   Handlers-cleaners         Husband   Black   \n",
       "3       Married-civ-spouse      Prof-specialty            Wife   Black   \n",
       "4       Married-civ-spouse     Exec-managerial            Wife   White   \n",
       "...                    ...                 ...             ...     ...   \n",
       "32555   Married-civ-spouse        Tech-support            Wife   White   \n",
       "32556   Married-civ-spouse   Machine-op-inspct         Husband   White   \n",
       "32557              Widowed        Adm-clerical       Unmarried   White   \n",
       "32558        Never-married        Adm-clerical       Own-child   White   \n",
       "32559   Married-civ-spouse     Exec-managerial            Wife   White   \n",
       "\n",
       "           sex  capital-gain  capital-loss  hours-per-week  native-country  \\\n",
       "0         Male             0             0              13   United-States   \n",
       "1         Male             0             0              40   United-States   \n",
       "2         Male             0             0              40   United-States   \n",
       "3       Female             0             0              40            Cuba   \n",
       "4       Female             0             0              40   United-States   \n",
       "...        ...           ...           ...             ...             ...   \n",
       "32555   Female             0             0              38   United-States   \n",
       "32556     Male             0             0              40   United-States   \n",
       "32557   Female             0             0              40   United-States   \n",
       "32558     Male             0             0              20   United-States   \n",
       "32559   Female         15024             0              40   United-States   \n",
       "\n",
       "        label  \n",
       "0       <=50K  \n",
       "1       <=50K  \n",
       "2       <=50K  \n",
       "3       <=50K  \n",
       "4       <=50K  \n",
       "...       ...  \n",
       "32555   <=50K  \n",
       "32556    >50K  \n",
       "32557   <=50K  \n",
       "32558   <=50K  \n",
       "32559    >50K  \n",
       "\n",
       "[32560 rows x 15 columns]"
      ]
     },
     "execution_count": 1,
     "metadata": {},
     "output_type": "execute_result"
    }
   ],
   "source": [
    "import pandas as pd\n",
    "import numpy as np\n",
    "import random\n",
    "import tools\n",
    "from sklearn.compose import make_column_selector as selector\n",
    "from sklearn import preprocessing\n",
    "from sklearn.preprocessing import normalize\n",
    "import warnings\n",
    "from sklearn.neighbors import KNeighborsClassifier as KNN\n",
    "from sklearn.tree import DecisionTreeClassifier as DT\n",
    "import sklearn\n",
    "\n",
    "warnings.simplefilter('ignore')\n",
    "\n",
    "%load_ext autoreload\n",
    "%autoreload 2\n",
    "\n",
    "df = pd.read_csv(\"https://archive.ics.uci.edu/ml/machine-learning-databases/adult/adult.data\", sep=\",\")\n",
    "df.columns = ['age', 'workclass', 'fnlwgt', 'education', 'education-num', 'marital-status', 'occupation',\n",
    "              'relationship', 'race', 'sex', 'capital-gain', 'capital-loss', 'hours-per-week', 'native-country', \n",
    "              'label']\n",
    "df"
   ]
  },
  {
   "cell_type": "markdown",
   "id": "383dd0b2",
   "metadata": {},
   "source": [
    "Now, we try cleaning our data by dropping irrelevant features that could obstruct the performance of our model:"
   ]
  },
  {
   "cell_type": "code",
   "execution_count": 2,
   "id": "d32e38d7-5fe6-4234-a654-0d640598e26f",
   "metadata": {},
   "outputs": [
    {
     "data": {
      "text/html": [
       "<div>\n",
       "<style scoped>\n",
       "    .dataframe tbody tr th:only-of-type {\n",
       "        vertical-align: middle;\n",
       "    }\n",
       "\n",
       "    .dataframe tbody tr th {\n",
       "        vertical-align: top;\n",
       "    }\n",
       "\n",
       "    .dataframe thead th {\n",
       "        text-align: right;\n",
       "    }\n",
       "</style>\n",
       "<table border=\"1\" class=\"dataframe\">\n",
       "  <thead>\n",
       "    <tr style=\"text-align: right;\">\n",
       "      <th></th>\n",
       "      <th>age</th>\n",
       "      <th>workclass</th>\n",
       "      <th>education-num</th>\n",
       "      <th>marital-status</th>\n",
       "      <th>occupation</th>\n",
       "      <th>relationship</th>\n",
       "      <th>race</th>\n",
       "      <th>sex</th>\n",
       "      <th>capital-gain</th>\n",
       "      <th>capital-loss</th>\n",
       "      <th>hours-per-week</th>\n",
       "      <th>native-country</th>\n",
       "      <th>label</th>\n",
       "    </tr>\n",
       "  </thead>\n",
       "  <tbody>\n",
       "    <tr>\n",
       "      <th>0</th>\n",
       "      <td>50</td>\n",
       "      <td>Self-emp-not-inc</td>\n",
       "      <td>13</td>\n",
       "      <td>Married-civ-spouse</td>\n",
       "      <td>Exec-managerial</td>\n",
       "      <td>Husband</td>\n",
       "      <td>White</td>\n",
       "      <td>Male</td>\n",
       "      <td>0</td>\n",
       "      <td>0</td>\n",
       "      <td>13</td>\n",
       "      <td>United-States</td>\n",
       "      <td>&lt;=50K</td>\n",
       "    </tr>\n",
       "    <tr>\n",
       "      <th>1</th>\n",
       "      <td>38</td>\n",
       "      <td>Private</td>\n",
       "      <td>9</td>\n",
       "      <td>Divorced</td>\n",
       "      <td>Handlers-cleaners</td>\n",
       "      <td>Not-in-family</td>\n",
       "      <td>White</td>\n",
       "      <td>Male</td>\n",
       "      <td>0</td>\n",
       "      <td>0</td>\n",
       "      <td>40</td>\n",
       "      <td>United-States</td>\n",
       "      <td>&lt;=50K</td>\n",
       "    </tr>\n",
       "    <tr>\n",
       "      <th>2</th>\n",
       "      <td>53</td>\n",
       "      <td>Private</td>\n",
       "      <td>7</td>\n",
       "      <td>Married-civ-spouse</td>\n",
       "      <td>Handlers-cleaners</td>\n",
       "      <td>Husband</td>\n",
       "      <td>Black</td>\n",
       "      <td>Male</td>\n",
       "      <td>0</td>\n",
       "      <td>0</td>\n",
       "      <td>40</td>\n",
       "      <td>United-States</td>\n",
       "      <td>&lt;=50K</td>\n",
       "    </tr>\n",
       "    <tr>\n",
       "      <th>3</th>\n",
       "      <td>28</td>\n",
       "      <td>Private</td>\n",
       "      <td>13</td>\n",
       "      <td>Married-civ-spouse</td>\n",
       "      <td>Prof-specialty</td>\n",
       "      <td>Wife</td>\n",
       "      <td>Black</td>\n",
       "      <td>Female</td>\n",
       "      <td>0</td>\n",
       "      <td>0</td>\n",
       "      <td>40</td>\n",
       "      <td>Cuba</td>\n",
       "      <td>&lt;=50K</td>\n",
       "    </tr>\n",
       "    <tr>\n",
       "      <th>4</th>\n",
       "      <td>37</td>\n",
       "      <td>Private</td>\n",
       "      <td>14</td>\n",
       "      <td>Married-civ-spouse</td>\n",
       "      <td>Exec-managerial</td>\n",
       "      <td>Wife</td>\n",
       "      <td>White</td>\n",
       "      <td>Female</td>\n",
       "      <td>0</td>\n",
       "      <td>0</td>\n",
       "      <td>40</td>\n",
       "      <td>United-States</td>\n",
       "      <td>&lt;=50K</td>\n",
       "    </tr>\n",
       "    <tr>\n",
       "      <th>...</th>\n",
       "      <td>...</td>\n",
       "      <td>...</td>\n",
       "      <td>...</td>\n",
       "      <td>...</td>\n",
       "      <td>...</td>\n",
       "      <td>...</td>\n",
       "      <td>...</td>\n",
       "      <td>...</td>\n",
       "      <td>...</td>\n",
       "      <td>...</td>\n",
       "      <td>...</td>\n",
       "      <td>...</td>\n",
       "      <td>...</td>\n",
       "    </tr>\n",
       "    <tr>\n",
       "      <th>32555</th>\n",
       "      <td>27</td>\n",
       "      <td>Private</td>\n",
       "      <td>12</td>\n",
       "      <td>Married-civ-spouse</td>\n",
       "      <td>Tech-support</td>\n",
       "      <td>Wife</td>\n",
       "      <td>White</td>\n",
       "      <td>Female</td>\n",
       "      <td>0</td>\n",
       "      <td>0</td>\n",
       "      <td>38</td>\n",
       "      <td>United-States</td>\n",
       "      <td>&lt;=50K</td>\n",
       "    </tr>\n",
       "    <tr>\n",
       "      <th>32556</th>\n",
       "      <td>40</td>\n",
       "      <td>Private</td>\n",
       "      <td>9</td>\n",
       "      <td>Married-civ-spouse</td>\n",
       "      <td>Machine-op-inspct</td>\n",
       "      <td>Husband</td>\n",
       "      <td>White</td>\n",
       "      <td>Male</td>\n",
       "      <td>0</td>\n",
       "      <td>0</td>\n",
       "      <td>40</td>\n",
       "      <td>United-States</td>\n",
       "      <td>&gt;50K</td>\n",
       "    </tr>\n",
       "    <tr>\n",
       "      <th>32557</th>\n",
       "      <td>58</td>\n",
       "      <td>Private</td>\n",
       "      <td>9</td>\n",
       "      <td>Widowed</td>\n",
       "      <td>Adm-clerical</td>\n",
       "      <td>Unmarried</td>\n",
       "      <td>White</td>\n",
       "      <td>Female</td>\n",
       "      <td>0</td>\n",
       "      <td>0</td>\n",
       "      <td>40</td>\n",
       "      <td>United-States</td>\n",
       "      <td>&lt;=50K</td>\n",
       "    </tr>\n",
       "    <tr>\n",
       "      <th>32558</th>\n",
       "      <td>22</td>\n",
       "      <td>Private</td>\n",
       "      <td>9</td>\n",
       "      <td>Never-married</td>\n",
       "      <td>Adm-clerical</td>\n",
       "      <td>Own-child</td>\n",
       "      <td>White</td>\n",
       "      <td>Male</td>\n",
       "      <td>0</td>\n",
       "      <td>0</td>\n",
       "      <td>20</td>\n",
       "      <td>United-States</td>\n",
       "      <td>&lt;=50K</td>\n",
       "    </tr>\n",
       "    <tr>\n",
       "      <th>32559</th>\n",
       "      <td>52</td>\n",
       "      <td>Self-emp-inc</td>\n",
       "      <td>9</td>\n",
       "      <td>Married-civ-spouse</td>\n",
       "      <td>Exec-managerial</td>\n",
       "      <td>Wife</td>\n",
       "      <td>White</td>\n",
       "      <td>Female</td>\n",
       "      <td>15024</td>\n",
       "      <td>0</td>\n",
       "      <td>40</td>\n",
       "      <td>United-States</td>\n",
       "      <td>&gt;50K</td>\n",
       "    </tr>\n",
       "  </tbody>\n",
       "</table>\n",
       "<p>32560 rows × 13 columns</p>\n",
       "</div>"
      ],
      "text/plain": [
       "       age          workclass  education-num       marital-status  \\\n",
       "0       50   Self-emp-not-inc             13   Married-civ-spouse   \n",
       "1       38            Private              9             Divorced   \n",
       "2       53            Private              7   Married-civ-spouse   \n",
       "3       28            Private             13   Married-civ-spouse   \n",
       "4       37            Private             14   Married-civ-spouse   \n",
       "...    ...                ...            ...                  ...   \n",
       "32555   27            Private             12   Married-civ-spouse   \n",
       "32556   40            Private              9   Married-civ-spouse   \n",
       "32557   58            Private              9              Widowed   \n",
       "32558   22            Private              9        Never-married   \n",
       "32559   52       Self-emp-inc              9   Married-civ-spouse   \n",
       "\n",
       "               occupation    relationship    race      sex  capital-gain  \\\n",
       "0         Exec-managerial         Husband   White     Male             0   \n",
       "1       Handlers-cleaners   Not-in-family   White     Male             0   \n",
       "2       Handlers-cleaners         Husband   Black     Male             0   \n",
       "3          Prof-specialty            Wife   Black   Female             0   \n",
       "4         Exec-managerial            Wife   White   Female             0   \n",
       "...                   ...             ...     ...      ...           ...   \n",
       "32555        Tech-support            Wife   White   Female             0   \n",
       "32556   Machine-op-inspct         Husband   White     Male             0   \n",
       "32557        Adm-clerical       Unmarried   White   Female             0   \n",
       "32558        Adm-clerical       Own-child   White     Male             0   \n",
       "32559     Exec-managerial            Wife   White   Female         15024   \n",
       "\n",
       "       capital-loss  hours-per-week  native-country   label  \n",
       "0                 0              13   United-States   <=50K  \n",
       "1                 0              40   United-States   <=50K  \n",
       "2                 0              40   United-States   <=50K  \n",
       "3                 0              40            Cuba   <=50K  \n",
       "4                 0              40   United-States   <=50K  \n",
       "...             ...             ...             ...     ...  \n",
       "32555             0              38   United-States   <=50K  \n",
       "32556             0              40   United-States    >50K  \n",
       "32557             0              40   United-States   <=50K  \n",
       "32558             0              20   United-States   <=50K  \n",
       "32559             0              40   United-States    >50K  \n",
       "\n",
       "[32560 rows x 13 columns]"
      ]
     },
     "execution_count": 2,
     "metadata": {},
     "output_type": "execute_result"
    }
   ],
   "source": [
    "# dropping noising features\n",
    "df = df.drop(columns=['fnlwgt','education'])\n",
    "\n",
    "# replacing all invalid entries by NaN\n",
    "df = tools.clean_df(df)\n",
    "\n",
    "df"
   ]
  },
  {
   "cell_type": "markdown",
   "id": "d26b759b-0af5-4295-a68d-5a768b474274",
   "metadata": {},
   "source": [
    "We dropped features that are irrelevant, and replaced any invalid entry by \"NaN\". Now we need to convert discrete variables into multiple variables by using one-hot encoding, provided by sklearn. We also need to replace all \"NaN\" entries by the mean of the column for continuous data, and by the mode of the column for discrete data."
   ]
  },
  {
   "cell_type": "code",
   "execution_count": 3,
   "id": "dfca56ac-91ae-4a2f-92df-d0c7e7948783",
   "metadata": {
    "scrolled": false,
    "tags": []
   },
   "outputs": [
    {
     "name": "stdout",
     "output_type": "stream",
     "text": [
      "shape =  (32560, 88)\n"
     ]
    }
   ],
   "source": [
    "labels = df.loc[:, 'label'].to_numpy() # array to label string\n",
    "df = df.iloc[:, 0:-1] # drop label in dataframe\n",
    "# do label encoding on Y\n",
    "le = preprocessing.LabelEncoder()\n",
    "le.fit(labels)\n",
    "#print(\"classes = \", le.classes_)\n",
    "Y = le.transform(labels)\n",
    "\n",
    "\n",
    "# select the columns with discrete variables\n",
    "discrete_columns_selector = selector(dtype_include=object)\n",
    "discrete_columns = discrete_columns_selector(df)\n",
    "df_discrete = df[discrete_columns]\n",
    "\n",
    "\n",
    "# replacing nan values with mode of respective column\n",
    "for (column_name, column_data) in df_discrete.iteritems():\n",
    "    mode = df_discrete[column_name].mode(dropna=True)[0]\n",
    "    df_discrete[column_name] = df_discrete[column_name].fillna(mode)\n",
    "    \n",
    "    \n",
    "# select the columns with continuous variables\n",
    "continuous_columns_selector = selector(dtype_include = int)\n",
    "continuous_columns = continuous_columns_selector(df)\n",
    "df_continuous = df[continuous_columns]\n",
    "df_continuous.reset_index(drop=True, inplace=True)\n",
    "\n",
    "\n",
    "# replacing nan values with mean of respective column\n",
    "for (column_name, column_data) in df_continuous.iteritems():\n",
    "    mean = df_continuous[column_name].mean(skipna = True)\n",
    "    df_continuous[column_name] = df_continuous[column_name].fillna(mean)\n",
    "    \n",
    "\n",
    "# do one hot encoding on dsicrete variables in dataframe\n",
    "discrete_encoded = tools.oneHotEncoding(df_discrete)\n",
    "discrete_encoded.reset_index(drop=True, inplace=True)\n",
    "\n",
    "# merge the continuous and discrete and label features into one df\n",
    "df_encoded = pd.concat([df_continuous,discrete_encoded],  axis=1, join='inner')\n",
    "\n",
    "X = df_encoded.to_numpy()\n",
    "\n",
    "print(\"shape = \", df_encoded.shape)"
   ]
  },
  {
   "cell_type": "markdown",
   "id": "f2644115-f23d-4b59-916c-986bfd6465dc",
   "metadata": {},
   "source": [
    "We have succesfully converted the discrete variables into multiple variables. We now have 88 features compared to the 13 we had at the start."
   ]
  },
  {
   "cell_type": "markdown",
   "id": "855c9d37",
   "metadata": {},
   "source": [
    "* ### 5-fold cross validation with the KNN algorithm:\n",
    "Now, we run the 5-fold cross validation on the encoded data frame with the KNN algorithm, with K ranging from 1 to 20:"
   ]
  },
  {
   "cell_type": "code",
   "execution_count": 4,
   "id": "f7f804b8",
   "metadata": {},
   "outputs": [
    {
     "name": "stdout",
     "output_type": "stream",
     "text": [
      "0 %\n",
      "20 %\n",
      "40 %\n",
      "60 %\n",
      "80 %\n"
     ]
    },
    {
     "data": {
      "text/html": [
       "<div>\n",
       "<style scoped>\n",
       "    .dataframe tbody tr th:only-of-type {\n",
       "        vertical-align: middle;\n",
       "    }\n",
       "\n",
       "    .dataframe tbody tr th {\n",
       "        vertical-align: top;\n",
       "    }\n",
       "\n",
       "    .dataframe thead th {\n",
       "        text-align: right;\n",
       "    }\n",
       "</style>\n",
       "<table border=\"1\" class=\"dataframe\">\n",
       "  <thead>\n",
       "    <tr style=\"text-align: right;\">\n",
       "      <th></th>\n",
       "      <th>k=1</th>\n",
       "      <th>k=2</th>\n",
       "      <th>k=3</th>\n",
       "      <th>k=4</th>\n",
       "      <th>k=5</th>\n",
       "      <th>k=6</th>\n",
       "      <th>k=7</th>\n",
       "      <th>k=8</th>\n",
       "      <th>k=9</th>\n",
       "      <th>k=10</th>\n",
       "      <th>k=11</th>\n",
       "      <th>k=12</th>\n",
       "      <th>k=13</th>\n",
       "      <th>k=14</th>\n",
       "      <th>k=15</th>\n",
       "      <th>k=16</th>\n",
       "      <th>k=17</th>\n",
       "      <th>k=18</th>\n",
       "      <th>k=19</th>\n",
       "      <th>k=20</th>\n",
       "    </tr>\n",
       "  </thead>\n",
       "  <tbody>\n",
       "    <tr>\n",
       "      <th>0</th>\n",
       "      <td>0.817875</td>\n",
       "      <td>0.842291</td>\n",
       "      <td>0.840295</td>\n",
       "      <td>0.848403</td>\n",
       "      <td>0.847789</td>\n",
       "      <td>0.852518</td>\n",
       "      <td>0.850215</td>\n",
       "      <td>0.852303</td>\n",
       "      <td>0.850584</td>\n",
       "      <td>0.852396</td>\n",
       "      <td>0.850522</td>\n",
       "      <td>0.853624</td>\n",
       "      <td>0.852365</td>\n",
       "      <td>0.853931</td>\n",
       "      <td>0.853317</td>\n",
       "      <td>0.853532</td>\n",
       "      <td>0.851505</td>\n",
       "      <td>0.852795</td>\n",
       "      <td>0.852027</td>\n",
       "      <td>0.85344</td>\n",
       "    </tr>\n",
       "  </tbody>\n",
       "</table>\n",
       "</div>"
      ],
      "text/plain": [
       "        k=1       k=2       k=3       k=4       k=5       k=6       k=7  \\\n",
       "0  0.817875  0.842291  0.840295  0.848403  0.847789  0.852518  0.850215   \n",
       "\n",
       "        k=8       k=9      k=10      k=11      k=12      k=13      k=14  \\\n",
       "0  0.852303  0.850584  0.852396  0.850522  0.853624  0.852365  0.853931   \n",
       "\n",
       "       k=15      k=16      k=17      k=18      k=19     k=20  \n",
       "0  0.853317  0.853532  0.851505  0.852795  0.852027  0.85344  "
      ]
     },
     "execution_count": 4,
     "metadata": {},
     "output_type": "execute_result"
    }
   ],
   "source": [
    "KNN_cross_val = tools.l_fold_cross_validation_KNN(L=5, X=X, Y=Y, K=[k for k in range(1,21)])\n",
    "columns = [\"k=\" + str(i) for i in range(1,21)]\n",
    "KNN_cross_val_results = pd.DataFrame(columns=columns)\n",
    "KNN_cross_val_results.loc[0]=KNN_cross_val\n",
    "KNN_cross_val_results"
   ]
  },
  {
   "cell_type": "markdown",
   "id": "8fd2949d",
   "metadata": {},
   "source": [
    "We now analyze our results for different values of K:"
   ]
  },
  {
   "cell_type": "code",
   "execution_count": 5,
   "id": "c3b5eab2",
   "metadata": {
    "scrolled": true
   },
   "outputs": [
    {
     "name": "stdout",
     "output_type": "stream",
     "text": [
      "best accuracy =  0.8539312039312039 , achieved for K =  14\n"
     ]
    }
   ],
   "source": [
    "argmax = KNN_cross_val.argmax()\n",
    "print(\"best accuracy = \", KNN_cross_val.max(), \", achieved for K = \", argmax+1)"
   ]
  },
  {
   "cell_type": "markdown",
   "id": "dbf4744f",
   "metadata": {},
   "source": [
    "Given the previous results, we can deduct that before scaling, the best performing KNN model was the one where K is 14."
   ]
  },
  {
   "cell_type": "markdown",
   "id": "ce1ab8c4",
   "metadata": {},
   "source": [
    "\n",
    "Due to computational complexity, we will assume that our model performs performs best when K=14 even when we add feature scaling to it (instead of testing out all combinations of feature scaling for all possible K values). We have decided to alter our model by scaling the following features: age (for obvious reasons), education-num (which lists the level of education of an individual), hours-per-week, capital-gain, and capital-loss. We believed those to be the most relevant features in our model. In order to determine when our model performs best, we wrote a function that tests it out for different scales for each relevant feature:"
   ]
  },
  {
   "cell_type": "code",
   "execution_count": 6,
   "id": "1f4b53b0",
   "metadata": {},
   "outputs": [
    {
     "name": "stdout",
     "output_type": "stream",
     "text": [
      "Now scaling age by 10\n",
      "Now scaling age by 25\n",
      "Now scaling age by 50\n",
      "Now scaling age by 100\n",
      "Now scaling age by 150\n",
      "Now scaling age by 200\n",
      "Now scaling education-num by 10\n",
      "Now scaling education-num by 25\n",
      "Now scaling education-num by 50\n",
      "Now scaling education-num by 100\n",
      "Now scaling education-num by 150\n",
      "Now scaling education-num by 200\n",
      "Now scaling hours-per-week by 10\n",
      "Now scaling hours-per-week by 25\n",
      "Now scaling hours-per-week by 50\n",
      "Now scaling hours-per-week by 100\n",
      "Now scaling hours-per-week by 150\n",
      "Now scaling hours-per-week by 200\n",
      "Now scaling capital-gain by 10\n",
      "Now scaling capital-gain by 25\n",
      "Now scaling capital-gain by 50\n",
      "Now scaling capital-gain by 100\n",
      "Now scaling capital-gain by 150\n",
      "Now scaling capital-gain by 200\n",
      "Now scaling capital-loss by 10\n",
      "Now scaling capital-loss by 25\n",
      "Now scaling capital-loss by 50\n",
      "Now scaling capital-loss by 100\n",
      "Now scaling capital-loss by 150\n",
      "Now scaling capital-loss by 200\n"
     ]
    }
   ],
   "source": [
    "X_scaling = df_encoded\n",
    "scalable_features = ('age', 'education-num', 'hours-per-week', 'capital-gain', 'capital-loss')\n",
    "KNN_cross_val_scaled = tools.l_fold_cross_validation_KNN_scaling_test(L=5, X=X_scaling, Y=Y, K=14, scalable_features=scalable_features)"
   ]
  },
  {
   "cell_type": "markdown",
   "id": "b43ee782",
   "metadata": {},
   "source": [
    "Let's visualize the results of our test:"
   ]
  },
  {
   "cell_type": "code",
   "execution_count": 7,
   "id": "d65de4cd",
   "metadata": {},
   "outputs": [
    {
     "data": {
      "image/png": "[encoded data removed]",
      "text/plain": [
       "<Figure size 432x288 with 1 Axes>"
      ]
     },
     "metadata": {
      "needs_background": "light"
     },
     "output_type": "display_data"
    }
   ],
   "source": [
    "tools.plot_scaling_results(KNN_cross_val_scaled)"
   ]
  },
  {
   "cell_type": "markdown",
   "id": "6aa41f8a",
   "metadata": {},
   "source": [
    "We can deduct from this that scaling has not brought any relevant value to our model's performance. Thus, we have decided not to apply any scaling to our model."
   ]
  },
  {
   "cell_type": "markdown",
   "id": "0f45bf42",
   "metadata": {},
   "source": [
    "* ### 5-fold cross validation on that same data with the Decision Tree algorithm:"
   ]
  },
  {
   "cell_type": "code",
   "execution_count": 8,
   "id": "75eb01f4",
   "metadata": {
    "scrolled": false
   },
   "outputs": [
    {
     "name": "stdout",
     "output_type": "stream",
     "text": [
      "0 %\n",
      "20 %\n",
      "40 %\n",
      "60 %\n",
      "80 %\n",
      "Done\n",
      "Performing 5-fold-cross-validation on  720  permutations of hyperparameters took  340.2424571  seconds\n"
     ]
    }
   ],
   "source": [
    "DT_cross_val = tools.l_fold_cross_validation_DT(L=5, X=X, Y=Y, criterion=[\"gini\", \"entropy\"],splitter=[\"best\",\"random\"],max_depth=[10,20,30,40,50],min_impurity_decrease=[0.2,0.1,0.05,0.025,0.01,0],min_samples_leaf=[1,5,10,15,20,25])"
   ]
  },
  {
   "cell_type": "markdown",
   "id": "cfaddd02",
   "metadata": {},
   "source": [
    "We will now try to find the best hyperparameters for our Decision Tree algorithm:"
   ]
  },
  {
   "cell_type": "code",
   "execution_count": 9,
   "id": "19237fa4",
   "metadata": {},
   "outputs": [
    {
     "name": "stdout",
     "output_type": "stream",
     "text": [
      "best hyperparmater values are: \n"
     ]
    },
    {
     "data": {
      "text/html": [
       "<div>\n",
       "<style scoped>\n",
       "    .dataframe tbody tr th:only-of-type {\n",
       "        vertical-align: middle;\n",
       "    }\n",
       "\n",
       "    .dataframe tbody tr th {\n",
       "        vertical-align: top;\n",
       "    }\n",
       "\n",
       "    .dataframe thead th {\n",
       "        text-align: right;\n",
       "    }\n",
       "</style>\n",
       "<table border=\"1\" class=\"dataframe\">\n",
       "  <thead>\n",
       "    <tr style=\"text-align: right;\">\n",
       "      <th></th>\n",
       "      <th>criterion</th>\n",
       "      <th>splitter</th>\n",
       "      <th>max_depth</th>\n",
       "      <th>min_impurity_decrease</th>\n",
       "      <th>min_samples_leaf</th>\n",
       "      <th>accuracy</th>\n",
       "      <th>time_req</th>\n",
       "    </tr>\n",
       "  </thead>\n",
       "  <tbody>\n",
       "    <tr>\n",
       "      <th>538</th>\n",
       "      <td>entropy</td>\n",
       "      <td>best</td>\n",
       "      <td>50</td>\n",
       "      <td>0.0</td>\n",
       "      <td>20</td>\n",
       "      <td>0.858876</td>\n",
       "      <td>1.063344</td>\n",
       "    </tr>\n",
       "  </tbody>\n",
       "</table>\n",
       "</div>"
      ],
      "text/plain": [
       "    criterion splitter max_depth  min_impurity_decrease min_samples_leaf  \\\n",
       "538   entropy     best        50                    0.0               20   \n",
       "\n",
       "     accuracy  time_req  \n",
       "538  0.858876  1.063344  "
      ]
     },
     "execution_count": 9,
     "metadata": {},
     "output_type": "execute_result"
    }
   ],
   "source": [
    "best_hp = DT_cross_val[DT_cross_val.accuracy == DT_cross_val.accuracy.max()]\n",
    "# if we have a tie of best hyperparameters, choose the one with the fastest time\n",
    "if best_hp.shape[0]>1:\n",
    "    best_hp = best_hp[best_hp.time_req == best_hp.time_req.min()]\n",
    "print(\"best hyperparmater values are: \")\n",
    "best_hp"
   ]
  },
  {
   "cell_type": "markdown",
   "id": "eee9955e",
   "metadata": {},
   "source": [
    "Looking at the above table, we can easily see which are the best parameters for our Decision Tree algorithm."
   ]
  },
  {
   "cell_type": "markdown",
   "id": "f2b4f86d",
   "metadata": {},
   "source": [
    "* ### L-fold cross validation with KNN algorithm on that same data with L > 5:"
   ]
  },
  {
   "cell_type": "markdown",
   "id": "bbb8eb47",
   "metadata": {},
   "source": [
    "Now we want to run the same experiment but with larger subsets of the training validation data. Since this will be very time-consuming, we will run the cross_validation with a smaller range of hyperparameters"
   ]
  },
  {
   "cell_type": "code",
   "execution_count": null,
   "id": "d5d8b9f6",
   "metadata": {},
   "outputs": [],
   "source": [
    "for l in [10,15,20,25]:\n",
    "    print(\"L = \", l)\n",
    "    KNN_cross_val = tools.l_fold_cross_validation_KNN(L=l, X=X, Y=Y, K=[5,10,14,15])\n",
    "    argmax = KNN_cross_val.argmax()\n",
    "    print(\"the best accuracy = \", KNN_cross_val.max(), \", achieved for K = \", argmax+1)"
   ]
  },
  {
   "cell_type": "markdown",
   "id": "896df246",
   "metadata": {},
   "source": [
    "We want to understand how the size of a dataset impacts both the training and validation error.\n",
    "<br>We can see that as L increases, or more specifically when L > 5, setting K = 2 instead of 14 results in a better performance for our model. As for the accuracy, it has increased by 0.1%, which is not enough to deduct anything (this variation can be due to the finite size of the dataset)."
   ]
  },
  {
   "cell_type": "markdown",
   "id": "d94e3c16",
   "metadata": {},
   "source": [
    "* ### L-fold cross validation with the Decision Tree algorithm on that same data with L > 5:"
   ]
  },
  {
   "cell_type": "markdown",
   "id": "29fda381",
   "metadata": {},
   "source": [
    "As for the KNN algorithm, we will run the cross_validation with a smaller range of hyperparameters:"
   ]
  },
  {
   "cell_type": "code",
   "execution_count": null,
   "id": "bf78d9f6",
   "metadata": {},
   "outputs": [],
   "source": [
    "for l in [10,15,20,25]:\n",
    "    print(\"L = \", l)\n",
    "    print('Loading... This might take a while')\n",
    "    DT_cross_val = tools.l_fold_cross_validation_DT(L=l, X=X, Y=Y,criterion=[\"gini\", \"entropy\"],splitter=[\"best\",\"random\"],max_depth=[10,15],min_impurity_decrease=[0.1,0.025,0],min_samples_leaf=[1,5,10,15,20,25])\n",
    "    best_hp = DT_cross_val[DT_cross_val.accuracy == DT_cross_val.accuracy.max()]\n",
    "    # if we have a tie of best hyperparameters, choose the one with the fastest time\n",
    "    if best_hp.shape[0]>1:\n",
    "        best_hp = best_hp[best_hp.time_req == best_hp.time_req.min()]\n",
    "    print(\"The best hyperparmater values are:\")\n",
    "    display(best_hp)\n",
    "    print()"
   ]
  },
  {
   "cell_type": "markdown",
   "id": "3faf0791",
   "metadata": {},
   "source": [
    "We want to understand how the size of a dataset impacts both the training and validation error\n",
    "<br>Looking at the above tables, we notice that as L increases, most hyperparameters that lead to optimal results are different than when L = 5 (Gini has been the better criterion over Entropy - maximum depth has decreased significantly ...), although the accuracy remains relatively unchanged. This means that we can manage to achieve the same accuracy as L increases by tweaking our hyperparameters as was seen in the tables."
   ]
  },
  {
   "cell_type": "markdown",
   "id": "c7db3831",
   "metadata": {},
   "source": [
    "### Applying our model on unseen data:"
   ]
  },
  {
   "cell_type": "markdown",
   "id": "faf4372f",
   "metadata": {},
   "source": [
    "Now, let's check our performance on the test data. \n",
    "First, we have to load the test data, and perform the same cleaning as we did on the training data:"
   ]
  },
  {
   "cell_type": "code",
   "execution_count": 19,
   "id": "228c57e6",
   "metadata": {},
   "outputs": [
    {
     "name": "stdout",
     "output_type": "stream",
     "text": [
      "(16280, 87)\n"
     ]
    }
   ],
   "source": [
    "# load and clean test data\n",
    "\n",
    "df_test = pd.read_csv(\"C:/Users/admin/Desktop/COMP 551/Assignments/COMP551_A1/adult.test\", sep=\",\")\n",
    "df_test.columns = ['age', 'workclass', 'fnlwgt', 'education', 'education-num', 'marital-status', 'occupation',\n",
    "              'relationship', 'race', 'sex', 'capital-gain', 'capital-loss', 'hours-per-week', 'native-country', \n",
    "              'label']\n",
    "df_test = df_test.drop(columns=['fnlwgt','education'])\n",
    "\n",
    "# replacing all invalid entries by NaN\n",
    "df_test = tools.clean_df(df_test)\n",
    "labels = df_test.loc[:, 'label'].to_numpy() # array ot label string\n",
    "df_test = df_test.iloc[:, 0:-1] # drop label in dataframe\n",
    "# do label encoding on Y\n",
    "le = preprocessing.LabelEncoder()\n",
    "le.fit(labels)\n",
    "#print(\"classes = \", le.classes_)\n",
    "Y_test = le.transform(labels)\n",
    "\n",
    "\n",
    "# select the columns with discrete variables\n",
    "discrete_columns_selector = selector(dtype_include=object)\n",
    "discrete_columns = discrete_columns_selector(df_test)\n",
    "df_discrete = df_test[discrete_columns]\n",
    "\n",
    "\n",
    "# replacing nan values with mode of respective column\n",
    "for (column_name, column_data) in df_discrete.iteritems():\n",
    "    mode = df_discrete[column_name].mode(dropna=True)[0]\n",
    "    df_discrete[column_name] = df_discrete[column_name].fillna(mode)\n",
    "    \n",
    "    \n",
    "# select the columns with continuous variables\n",
    "continuous_columns_selector = selector(dtype_include = int)\n",
    "continuous_columns = continuous_columns_selector(df_test)\n",
    "df_continuous = df_test[continuous_columns]\n",
    "df_continuous.reset_index(drop=True, inplace=True)\n",
    "\n",
    "\n",
    "# replacing nan values with mean of respective column\n",
    "for (column_name, column_data) in df_continuous.iteritems():\n",
    "    mean = df_continuous[column_name].mean(skipna = True)\n",
    "    df_continuous[column_name] = df_continuous[column_name].fillna(mean)\n",
    "    \n",
    "\n",
    "# do one hot encoding on dsicrete variables in dataframe\n",
    "discrete_encoded = tools.oneHotEncoding(df_discrete)\n",
    "discrete_encoded.reset_index(drop=True, inplace=True)\n",
    "\n",
    "# merge the continuous and discrete and label features into one df\n",
    "df_encoded_test = pd.concat([df_continuous,discrete_encoded],  axis=1, join='inner')\n",
    "\n",
    "print(df_encoded_test.shape)\n",
    "\n"
   ]
  },
  {
   "cell_type": "markdown",
   "id": "f781ae04",
   "metadata": {},
   "source": [
    "We notice the test data has less columns than the training data, so we need to fill the missing columns with 0."
   ]
  },
  {
   "cell_type": "code",
   "execution_count": 24,
   "id": "a8421ded",
   "metadata": {},
   "outputs": [],
   "source": [
    "# add missing column to training set\n",
    "for i in range(len(df_encoded.columns)):\n",
    "    if df_encoded.columns[i] != df_encoded_test.columns[i]:\n",
    "        df_encoded_test.insert(loc=i, column=df_encoded.columns[i], value=[0]*df_encoded_test.shape[0])\n",
    "\n",
    "X_test = df_encoded_test.to_numpy()\n"
   ]
  },
  {
   "cell_type": "markdown",
   "id": "b8caba41",
   "metadata": {},
   "source": [
    "* ### KNN on unseen data:"
   ]
  },
  {
   "cell_type": "markdown",
   "id": "0f1ee1d8",
   "metadata": {},
   "source": [
    "We now run our KNN model on unseen data:"
   ]
  },
  {
   "cell_type": "code",
   "execution_count": 25,
   "id": "efbfb958",
   "metadata": {},
   "outputs": [
    {
     "name": "stdout",
     "output_type": "stream",
     "text": [
      "for k =  2 the accuracy on the test data is:  0.8445945945945946\n",
      "for k =  14 the accuracy on the test data is:  0.8582923832923833\n"
     ]
    }
   ],
   "source": [
    "# KNN\n",
    "for k in [2,14]:\n",
    "    # see training data results on KNN using K=k\n",
    "    KNN_classifier = KNN(n_neighbors=k)\n",
    "    KNN_classifier.fit(X, Y) # fit the model using training data\n",
    "    Y_prediction = KNN_classifier.predict(X_test) # predict test data\n",
    "    accuracy = Y_prediction == Y_test\n",
    "    accuracy = np.sum(accuracy)  # number of correct predictions\n",
    "    score = accuracy / X_test.shape[0]  # ratio of correct prediction\n",
    "    print(\"for k = \", k, \"the accuracy on the test data is: \", score)"
   ]
  },
  {
   "cell_type": "markdown",
   "id": "37def6f7",
   "metadata": {},
   "source": [
    "Just out of curiousity, we have also tested our model for K = 2 (which was the best performing value for when L > 5). \n",
    "<br>Otherwise, assuming our model performs best when K = 14, we can estimate an accuracy of 85.83% on unseen data with our KNN model."
   ]
  },
  {
   "cell_type": "markdown",
   "id": "2f713744",
   "metadata": {},
   "source": [
    "* ### Decision Tree algorithm on unseen data:"
   ]
  },
  {
   "cell_type": "markdown",
   "id": "33869199",
   "metadata": {},
   "source": [
    "Using the best hyperparameters for our model when L = 5, we run our Decision Tree algorithm on unseen data:"
   ]
  },
  {
   "cell_type": "code",
   "execution_count": 26,
   "id": "e953c64c",
   "metadata": {},
   "outputs": [
    {
     "name": "stdout",
     "output_type": "stream",
     "text": [
      "For the best hyperparameters, the accuracy is:  0.8636363636363636\n"
     ]
    }
   ],
   "source": [
    "# DT\n",
    "# predict on test data using best hyperparameters\n",
    "DT_classifier = DT(criterion=\"entropy\", splitter=\"best\", max_depth=50,\n",
    "                min_impurity_decrease=0, min_samples_leaf=20)\n",
    "DT_classifier.fit(X, Y)\n",
    "Y_prediction = DT_classifier.predict(X_test)\n",
    "accuracy = Y_prediction == Y_test\n",
    "accuracy = np.sum(accuracy)  # number of correct predictions\n",
    "score = accuracy/X_test.shape[0]\n",
    "print(\"For the best hyperparameters, the accuracy is: \", score)"
   ]
  },
  {
   "cell_type": "markdown",
   "id": "c7bdf403",
   "metadata": {},
   "source": [
    "<br>Assuming our model performs best under these parameters, we can estimate an accuracy of 86.36% on unseen data with our Decision Tree model."
   ]
  },
  {
   "cell_type": "markdown",
   "id": "c4739c1c",
   "metadata": {},
   "source": [
    "<br>\n",
    "<br>\n",
    "<br>\n",
    "<br>"
   ]
  },
  {
   "cell_type": "markdown",
   "id": "1446edd3",
   "metadata": {},
   "source": [
    "## Dataset 2 : balance-scale"
   ]
  },
  {
   "cell_type": "markdown",
   "id": "454bb47f",
   "metadata": {},
   "source": [
    "For the second part of the project, we begin our analysis on the data set we have chosen: balance-scale. \n",
    "<br>Most of our helper functions can be found in the ***tools.py*** file.\n",
    "<br>We start by importing the dataset and storing the equivalent data in Pandas Dataframes:"
   ]
  },
  {
   "cell_type": "markdown",
   "id": "43589cfd",
   "metadata": {},
   "source": [
    "Now, we try cleaning our data by dropping irrelevant features that could obstruct the performance of our model:"
   ]
  },
  {
   "cell_type": "code",
   "execution_count": 114,
   "id": "a93b630d",
   "metadata": {},
   "outputs": [
    {
     "name": "stdout",
     "output_type": "stream",
     "text": [
      "The autoreload extension is already loaded. To reload it, use:\n",
      "  %reload_ext autoreload\n"
     ]
    },
    {
     "data": {
      "text/html": [
       "<div>\n",
       "<style scoped>\n",
       "    .dataframe tbody tr th:only-of-type {\n",
       "        vertical-align: middle;\n",
       "    }\n",
       "\n",
       "    .dataframe tbody tr th {\n",
       "        vertical-align: top;\n",
       "    }\n",
       "\n",
       "    .dataframe thead th {\n",
       "        text-align: right;\n",
       "    }\n",
       "</style>\n",
       "<table border=\"1\" class=\"dataframe\">\n",
       "  <thead>\n",
       "    <tr style=\"text-align: right;\">\n",
       "      <th></th>\n",
       "      <th>Class</th>\n",
       "      <th>Left-Weight</th>\n",
       "      <th>Left-Distance</th>\n",
       "      <th>Right-Weight</th>\n",
       "      <th>Right-Distance</th>\n",
       "    </tr>\n",
       "  </thead>\n",
       "  <tbody>\n",
       "    <tr>\n",
       "      <th>0</th>\n",
       "      <td>R</td>\n",
       "      <td>1</td>\n",
       "      <td>1</td>\n",
       "      <td>1</td>\n",
       "      <td>2</td>\n",
       "    </tr>\n",
       "    <tr>\n",
       "      <th>1</th>\n",
       "      <td>R</td>\n",
       "      <td>1</td>\n",
       "      <td>1</td>\n",
       "      <td>1</td>\n",
       "      <td>3</td>\n",
       "    </tr>\n",
       "    <tr>\n",
       "      <th>2</th>\n",
       "      <td>R</td>\n",
       "      <td>1</td>\n",
       "      <td>1</td>\n",
       "      <td>1</td>\n",
       "      <td>4</td>\n",
       "    </tr>\n",
       "    <tr>\n",
       "      <th>3</th>\n",
       "      <td>R</td>\n",
       "      <td>1</td>\n",
       "      <td>1</td>\n",
       "      <td>1</td>\n",
       "      <td>5</td>\n",
       "    </tr>\n",
       "    <tr>\n",
       "      <th>4</th>\n",
       "      <td>R</td>\n",
       "      <td>1</td>\n",
       "      <td>1</td>\n",
       "      <td>2</td>\n",
       "      <td>1</td>\n",
       "    </tr>\n",
       "    <tr>\n",
       "      <th>...</th>\n",
       "      <td>...</td>\n",
       "      <td>...</td>\n",
       "      <td>...</td>\n",
       "      <td>...</td>\n",
       "      <td>...</td>\n",
       "    </tr>\n",
       "    <tr>\n",
       "      <th>619</th>\n",
       "      <td>L</td>\n",
       "      <td>5</td>\n",
       "      <td>5</td>\n",
       "      <td>5</td>\n",
       "      <td>1</td>\n",
       "    </tr>\n",
       "    <tr>\n",
       "      <th>620</th>\n",
       "      <td>L</td>\n",
       "      <td>5</td>\n",
       "      <td>5</td>\n",
       "      <td>5</td>\n",
       "      <td>2</td>\n",
       "    </tr>\n",
       "    <tr>\n",
       "      <th>621</th>\n",
       "      <td>L</td>\n",
       "      <td>5</td>\n",
       "      <td>5</td>\n",
       "      <td>5</td>\n",
       "      <td>3</td>\n",
       "    </tr>\n",
       "    <tr>\n",
       "      <th>622</th>\n",
       "      <td>L</td>\n",
       "      <td>5</td>\n",
       "      <td>5</td>\n",
       "      <td>5</td>\n",
       "      <td>4</td>\n",
       "    </tr>\n",
       "    <tr>\n",
       "      <th>623</th>\n",
       "      <td>B</td>\n",
       "      <td>5</td>\n",
       "      <td>5</td>\n",
       "      <td>5</td>\n",
       "      <td>5</td>\n",
       "    </tr>\n",
       "  </tbody>\n",
       "</table>\n",
       "<p>624 rows × 5 columns</p>\n",
       "</div>"
      ],
      "text/plain": [
       "    Class  Left-Weight  Left-Distance  Right-Weight  Right-Distance\n",
       "0       R            1              1             1               2\n",
       "1       R            1              1             1               3\n",
       "2       R            1              1             1               4\n",
       "3       R            1              1             1               5\n",
       "4       R            1              1             2               1\n",
       "..    ...          ...            ...           ...             ...\n",
       "619     L            5              5             5               1\n",
       "620     L            5              5             5               2\n",
       "621     L            5              5             5               3\n",
       "622     L            5              5             5               4\n",
       "623     B            5              5             5               5\n",
       "\n",
       "[624 rows x 5 columns]"
      ]
     },
     "execution_count": 114,
     "metadata": {},
     "output_type": "execute_result"
    }
   ],
   "source": [
    "import pandas as pd\n",
    "import numpy as np\n",
    "import random\n",
    "import tools\n",
    "from sklearn.compose import make_column_selector as selector\n",
    "from sklearn import preprocessing\n",
    "from sklearn.preprocessing import normalize\n",
    "import warnings\n",
    "from sklearn.neighbors import KNeighborsClassifier as KNN\n",
    "from sklearn.tree import DecisionTreeClassifier as DT\n",
    "import sklearn\n",
    "\n",
    "warnings.simplefilter('ignore')\n",
    "\n",
    "%load_ext autoreload\n",
    "%autoreload 2\n",
    "\n",
    "df2 = pd.read_csv(\"https://archive.ics.uci.edu/ml/machine-learning-databases/balance-scale/balance-scale.data\", sep=\",\")\n",
    "df2.columns = ['Class', 'Left-Weight', 'Left-Distance', 'Right-Weight', 'Right-Distance']\n",
    "df2"
   ]
  },
  {
   "cell_type": "markdown",
   "id": "2701638f",
   "metadata": {},
   "source": [
    "The dataset we have chosen contains no missing values, hence we do not need to perform any data imputation. Also, all the features in the dataset are very relevant to our use-case which means we do not need to drop any potentially noisy feature.\n",
    "<br>Firstly, we will have to encode our 'Class' column by mapping each of the 3 possible values to an integer.\n",
    "<br>After that, we will need to seperate our dataset into a training set and a test set, and will do respectively using 2/3 and 1/3 as the proportions relative to the size of the set (the number of rows). These proportions are purely arbitrary, and were chosen as such because of popularity (another common ratio is 80:20 for the training-test sets)."
   ]
  },
  {
   "cell_type": "code",
   "execution_count": 131,
   "id": "a31e15c4",
   "metadata": {},
   "outputs": [],
   "source": [
    "split_index = round(df2.shape[0]*(2/3))\n",
    "df2_test = df2.iloc[split_index:, :]\n",
    "df2_train = df2.iloc[:split_index, :]\n",
    "\n",
    "labels2 = df2_train.loc[:, 'Class'].to_numpy() # array to label string\n",
    "labels2_test = df2_test.loc[:, 'Class'].to_numpy() # array to label string\n",
    "df2_train = df2_train.iloc[:, 1:] # drop label in dataframe\n",
    "df2_test = df2_test.iloc[:, 1:] # drop label in dataframe\n",
    "\n",
    "# do label encoding on Ys\n",
    "le2 = preprocessing.LabelEncoder()\n",
    "le2.fit(labels2)\n",
    "\n",
    "Y2 = le2.transform(labels2)\n",
    "X2 = df2_train.to_numpy()\n",
    "\n",
    "Y2_test = le2.transform(labels2_test)\n",
    "X2_test = df2_test.to_numpy()"
   ]
  },
  {
   "cell_type": "markdown",
   "id": "ccf39c24",
   "metadata": {},
   "source": [
    "* ### 5-fold cross validation with the KNN algorithm:\n",
    "Now, we run the 5-fold cross validation on the encoded data frame with the KNN algorithm, with K ranging from 1 to 20:"
   ]
  },
  {
   "cell_type": "code",
   "execution_count": 132,
   "id": "ef160703",
   "metadata": {},
   "outputs": [
    {
     "name": "stdout",
     "output_type": "stream",
     "text": [
      "0 %\n",
      "20 %\n",
      "40 %\n",
      "60 %\n",
      "80 %\n"
     ]
    },
    {
     "data": {
      "text/html": [
       "<div>\n",
       "<style scoped>\n",
       "    .dataframe tbody tr th:only-of-type {\n",
       "        vertical-align: middle;\n",
       "    }\n",
       "\n",
       "    .dataframe tbody tr th {\n",
       "        vertical-align: top;\n",
       "    }\n",
       "\n",
       "    .dataframe thead th {\n",
       "        text-align: right;\n",
       "    }\n",
       "</style>\n",
       "<table border=\"1\" class=\"dataframe\">\n",
       "  <thead>\n",
       "    <tr style=\"text-align: right;\">\n",
       "      <th></th>\n",
       "      <th>k=1</th>\n",
       "      <th>k=2</th>\n",
       "      <th>k=3</th>\n",
       "      <th>k=4</th>\n",
       "      <th>k=5</th>\n",
       "      <th>k=6</th>\n",
       "      <th>k=7</th>\n",
       "      <th>k=8</th>\n",
       "      <th>k=9</th>\n",
       "      <th>k=10</th>\n",
       "      <th>k=11</th>\n",
       "      <th>k=12</th>\n",
       "      <th>k=13</th>\n",
       "      <th>k=14</th>\n",
       "      <th>k=15</th>\n",
       "      <th>k=16</th>\n",
       "      <th>k=17</th>\n",
       "      <th>k=18</th>\n",
       "      <th>k=19</th>\n",
       "      <th>k=20</th>\n",
       "    </tr>\n",
       "  </thead>\n",
       "  <tbody>\n",
       "    <tr>\n",
       "      <th>0</th>\n",
       "      <td>0.761446</td>\n",
       "      <td>0.693976</td>\n",
       "      <td>0.780723</td>\n",
       "      <td>0.790361</td>\n",
       "      <td>0.819277</td>\n",
       "      <td>0.814458</td>\n",
       "      <td>0.831325</td>\n",
       "      <td>0.836145</td>\n",
       "      <td>0.831325</td>\n",
       "      <td>0.840964</td>\n",
       "      <td>0.836145</td>\n",
       "      <td>0.840964</td>\n",
       "      <td>0.845783</td>\n",
       "      <td>0.838554</td>\n",
       "      <td>0.840964</td>\n",
       "      <td>0.838554</td>\n",
       "      <td>0.836145</td>\n",
       "      <td>0.840964</td>\n",
       "      <td>0.838554</td>\n",
       "      <td>0.828916</td>\n",
       "    </tr>\n",
       "  </tbody>\n",
       "</table>\n",
       "</div>"
      ],
      "text/plain": [
       "        k=1       k=2       k=3       k=4       k=5       k=6       k=7  \\\n",
       "0  0.761446  0.693976  0.780723  0.790361  0.819277  0.814458  0.831325   \n",
       "\n",
       "        k=8       k=9      k=10      k=11      k=12      k=13      k=14  \\\n",
       "0  0.836145  0.831325  0.840964  0.836145  0.840964  0.845783  0.838554   \n",
       "\n",
       "       k=15      k=16      k=17      k=18      k=19      k=20  \n",
       "0  0.840964  0.838554  0.836145  0.840964  0.838554  0.828916  "
      ]
     },
     "execution_count": 132,
     "metadata": {},
     "output_type": "execute_result"
    }
   ],
   "source": [
    "KNN_cross_val = tools.l_fold_cross_validation_KNN(L=5, X=X2, Y=Y2, K=[k for k in range(1,21)])\n",
    "columns2 = [\"k=\" + str(i) for i in range(1,21)]\n",
    "KNN_cross_val_results = pd.DataFrame(columns=columns2)\n",
    "KNN_cross_val_results.loc[0]=KNN_cross_val\n",
    "KNN_cross_val_results"
   ]
  },
  {
   "cell_type": "markdown",
   "id": "308dc00a",
   "metadata": {},
   "source": [
    "We now analyze our results for different values of K:"
   ]
  },
  {
   "cell_type": "code",
   "execution_count": 133,
   "id": "af764143",
   "metadata": {},
   "outputs": [
    {
     "name": "stdout",
     "output_type": "stream",
     "text": [
      "best accuracy =  0.8457831325301205 , achieved for K =  13\n"
     ]
    }
   ],
   "source": [
    "argmax = KNN_cross_val.argmax()\n",
    "print(\"best accuracy =\", KNN_cross_val.max(), \", achieved for K = \", argmax+1)"
   ]
  },
  {
   "cell_type": "markdown",
   "id": "e533daec",
   "metadata": {},
   "source": [
    "Given the previous results, we can deduct that before scaling, the best performing KNN model was the one where K is 13."
   ]
  },
  {
   "cell_type": "markdown",
   "id": "919f9842",
   "metadata": {},
   "source": [
    "Due to computational complexity, we will assume that our model performs performs best when K=13 even when we add feature scaling to it (instead of testing out all combinations of feature scaling for all possible K values). Since our dataset only contains 4 features, we have decided to alter our model by scaling all of them.\n",
    "<br>In order to determine when our model performs best, we wrote a function that tests it out for different scales for each relevant feature:"
   ]
  },
  {
   "cell_type": "code",
   "execution_count": 134,
   "id": "2a08097b",
   "metadata": {},
   "outputs": [
    {
     "name": "stdout",
     "output_type": "stream",
     "text": [
      "Now scaling Left-Weight by 10\n",
      "Now scaling Left-Weight by 25\n",
      "Now scaling Left-Weight by 50\n",
      "Now scaling Left-Weight by 100\n",
      "Now scaling Left-Weight by 150\n",
      "Now scaling Left-Weight by 200\n",
      "Now scaling Left-Distance by 10\n",
      "Now scaling Left-Distance by 25\n",
      "Now scaling Left-Distance by 50\n",
      "Now scaling Left-Distance by 100\n",
      "Now scaling Left-Distance by 150\n",
      "Now scaling Left-Distance by 200\n",
      "Now scaling Right-Weight by 10\n",
      "Now scaling Right-Weight by 25\n",
      "Now scaling Right-Weight by 50\n",
      "Now scaling Right-Weight by 100\n",
      "Now scaling Right-Weight by 150\n",
      "Now scaling Right-Weight by 200\n",
      "Now scaling Right-Distance by 10\n",
      "Now scaling Right-Distance by 25\n",
      "Now scaling Right-Distance by 50\n",
      "Now scaling Right-Distance by 100\n",
      "Now scaling Right-Distance by 150\n",
      "Now scaling Right-Distance by 200\n"
     ]
    }
   ],
   "source": [
    "X_scaling = df2_train\n",
    "scalable_features = ('Left-Weight', 'Left-Distance', 'Right-Weight', 'Right-Distance')\n",
    "KNN_cross_val_scaled2 = tools.l_fold_cross_validation_KNN_scaling_test(L=5, X=X_scaling, Y=Y2, K=13, scalable_features=scalable_features)"
   ]
  },
  {
   "cell_type": "markdown",
   "id": "14092601",
   "metadata": {},
   "source": [
    "Let's visualize the results of our test:"
   ]
  },
  {
   "cell_type": "code",
   "execution_count": 136,
   "id": "5868d07e",
   "metadata": {},
   "outputs": [
    {
     "data": {
      "image/png": "[encoded data removed]",
      "text/plain": [
       "<Figure size 432x288 with 1 Axes>"
      ]
     },
     "metadata": {
      "needs_background": "light"
     },
     "output_type": "display_data"
    }
   ],
   "source": [
    "tools.plot_scaling_results(KNN_cross_val_scaled2)"
   ]
  },
  {
   "cell_type": "markdown",
   "id": "8d32ff54",
   "metadata": {},
   "source": [
    "We can deduct from this that scaling has not brought any change whatsoever to our model's performance. Thus, we have decided not to apply any scaling to our model."
   ]
  },
  {
   "cell_type": "markdown",
   "id": "976b5a72",
   "metadata": {},
   "source": [
    "* ### 5-fold cross validation on that same data with the Decision Tree algorithm:"
   ]
  },
  {
   "cell_type": "code",
   "execution_count": 137,
   "id": "94dec881",
   "metadata": {},
   "outputs": [
    {
     "name": "stdout",
     "output_type": "stream",
     "text": [
      "0 %\n",
      "20 %\n",
      "40 %\n",
      "60 %\n",
      "80 %\n",
      "Done\n",
      "Performing 5-fold-cross-validation on  720  permutations of hyperparameters took  3.948081624999759  seconds\n"
     ]
    }
   ],
   "source": [
    "DT_cross_val2 = tools.l_fold_cross_validation_DT(L=5, X=X2, Y=Y2, criterion=[\"gini\", \"entropy\"],splitter=[\"best\",\"random\"],max_depth=[10,20,30,40,50],min_impurity_decrease=[0.2,0.1,0.05,0.025,0.01,0],min_samples_leaf=[1,5,10,15,20,25])"
   ]
  },
  {
   "cell_type": "markdown",
   "id": "b1c6d269",
   "metadata": {},
   "source": [
    "We will now try to find the best hyperparameters for our Decision Tree algorithm:"
   ]
  },
  {
   "cell_type": "code",
   "execution_count": 139,
   "id": "53b41800",
   "metadata": {},
   "outputs": [
    {
     "name": "stdout",
     "output_type": "stream",
     "text": [
      "best hyperparmater values are: \n"
     ]
    },
    {
     "data": {
      "text/html": [
       "<div>\n",
       "<style scoped>\n",
       "    .dataframe tbody tr th:only-of-type {\n",
       "        vertical-align: middle;\n",
       "    }\n",
       "\n",
       "    .dataframe tbody tr th {\n",
       "        vertical-align: top;\n",
       "    }\n",
       "\n",
       "    .dataframe thead th {\n",
       "        text-align: right;\n",
       "    }\n",
       "</style>\n",
       "<table border=\"1\" class=\"dataframe\">\n",
       "  <thead>\n",
       "    <tr style=\"text-align: right;\">\n",
       "      <th></th>\n",
       "      <th>criterion</th>\n",
       "      <th>splitter</th>\n",
       "      <th>max_depth</th>\n",
       "      <th>min_impurity_decrease</th>\n",
       "      <th>min_samples_leaf</th>\n",
       "      <th>accuracy</th>\n",
       "      <th>time_req</th>\n",
       "    </tr>\n",
       "  </thead>\n",
       "  <tbody>\n",
       "    <tr>\n",
       "      <th>463</th>\n",
       "      <td>entropy</td>\n",
       "      <td>best</td>\n",
       "      <td>30</td>\n",
       "      <td>0.0</td>\n",
       "      <td>5</td>\n",
       "      <td>0.768675</td>\n",
       "      <td>0.001674</td>\n",
       "    </tr>\n",
       "  </tbody>\n",
       "</table>\n",
       "</div>"
      ],
      "text/plain": [
       "    criterion splitter max_depth  min_impurity_decrease min_samples_leaf  \\\n",
       "463   entropy     best        30                    0.0                5   \n",
       "\n",
       "     accuracy  time_req  \n",
       "463  0.768675  0.001674  "
      ]
     },
     "execution_count": 139,
     "metadata": {},
     "output_type": "execute_result"
    }
   ],
   "source": [
    "best_hp2 = DT_cross_val2[DT_cross_val2.accuracy == DT_cross_val2.accuracy.max()]\n",
    "# if we have a tie of best hyperparameters, choose the one with the fastest time\n",
    "if best_hp2.shape[0]>1:\n",
    "    best_hp2 = best_hp2[best_hp2.time_req == best_hp2.time_req.min()]\n",
    "print(\"best hyperparmater values are: \")\n",
    "best_hp2"
   ]
  },
  {
   "cell_type": "markdown",
   "id": "c1d001da",
   "metadata": {},
   "source": [
    "Looking at the above table, we can easily see which are the best parameters for our Decision Tree algorithm."
   ]
  },
  {
   "cell_type": "markdown",
   "id": "119b1a65",
   "metadata": {},
   "source": [
    "* ### L-fold cross validation with KNN algorithm on that same data with L > 5:"
   ]
  },
  {
   "cell_type": "markdown",
   "id": "39a92792",
   "metadata": {},
   "source": [
    "Now we want to run the same experiment but with larger subsets of the training validation data. Since this will be very time-consuming, we will run the cross_validation with a smaller range of hyperparameters"
   ]
  },
  {
   "cell_type": "code",
   "execution_count": 140,
   "id": "c42116c8",
   "metadata": {},
   "outputs": [
    {
     "name": "stdout",
     "output_type": "stream",
     "text": [
      "L =  10\n",
      "0 %\n",
      "10 %\n",
      "20 %\n",
      "30 %\n",
      "40 %\n",
      "50 %\n",
      "60 %\n",
      "70 %\n",
      "80 %\n",
      "90 %\n",
      "The best accuracy =  0.8243902439024391 , achieved for K =  2\n",
      "L =  15\n",
      "0 %\n",
      "6 %\n",
      "13 %\n",
      "20 %\n",
      "26 %\n",
      "33 %\n",
      "40 %\n",
      "46 %\n",
      "53 %\n",
      "60 %\n",
      "66 %\n",
      "73 %\n",
      "80 %\n",
      "86 %\n",
      "93 %\n",
      "The best accuracy =  0.8419753086419753 , achieved for K =  1\n",
      "L =  20\n",
      "0 %\n",
      "5 %\n",
      "10 %\n",
      "15 %\n",
      "20 %\n",
      "25 %\n",
      "30 %\n",
      "35 %\n",
      "40 %\n",
      "45 %\n",
      "50 %\n",
      "55 %\n",
      "60 %\n",
      "65 %\n",
      "70 %\n",
      "75 %\n",
      "80 %\n",
      "85 %\n",
      "90 %\n",
      "95 %\n",
      "The best accuracy =  0.8300000000000003 , achieved for K =  2\n",
      "L =  25\n",
      "0 %\n",
      "4 %\n",
      "8 %\n",
      "12 %\n",
      "16 %\n",
      "20 %\n",
      "24 %\n",
      "28 %\n",
      "32 %\n",
      "36 %\n",
      "40 %\n",
      "44 %\n",
      "48 %\n",
      "52 %\n",
      "56 %\n",
      "60 %\n",
      "64 %\n",
      "68 %\n",
      "72 %\n",
      "76 %\n",
      "80 %\n",
      "84 %\n",
      "88 %\n",
      "92 %\n",
      "96 %\n",
      "The best accuracy =  0.845 , achieved for K =  1\n",
      "L =  30\n",
      "0 %\n",
      "3 %\n",
      "6 %\n",
      "10 %\n",
      "13 %\n",
      "16 %\n",
      "20 %\n",
      "23 %\n",
      "26 %\n",
      "30 %\n",
      "33 %\n",
      "36 %\n",
      "40 %\n",
      "43 %\n",
      "46 %\n",
      "50 %\n",
      "53 %\n",
      "56 %\n",
      "60 %\n",
      "63 %\n",
      "66 %\n",
      "70 %\n",
      "73 %\n",
      "76 %\n",
      "80 %\n",
      "83 %\n",
      "86 %\n",
      "90 %\n",
      "93 %\n",
      "96 %\n",
      "The best accuracy =  0.8410256410256413 , achieved for K =  2\n",
      "L =  35\n",
      "0 %\n",
      "2 %\n",
      "5 %\n",
      "8 %\n",
      "11 %\n",
      "14 %\n",
      "17 %\n",
      "20 %\n",
      "22 %\n",
      "25 %\n",
      "28 %\n",
      "31 %\n",
      "34 %\n",
      "37 %\n",
      "40 %\n",
      "42 %\n",
      "45 %\n",
      "48 %\n",
      "51 %\n",
      "54 %\n",
      "57 %\n",
      "60 %\n",
      "62 %\n",
      "65 %\n",
      "68 %\n",
      "71 %\n",
      "74 %\n",
      "77 %\n",
      "80 %\n",
      "82 %\n",
      "85 %\n",
      "88 %\n",
      "91 %\n",
      "94 %\n",
      "97 %\n",
      "The best accuracy =  0.8493506493506492 , achieved for K =  2\n",
      "L =  40\n",
      "0 %\n",
      "2 %\n",
      "5 %\n",
      "7 %\n",
      "10 %\n",
      "12 %\n",
      "15 %\n",
      "17 %\n",
      "20 %\n",
      "22 %\n",
      "25 %\n",
      "27 %\n",
      "30 %\n",
      "32 %\n",
      "35 %\n",
      "37 %\n",
      "40 %\n",
      "42 %\n",
      "45 %\n",
      "47 %\n",
      "50 %\n",
      "52 %\n",
      "55 %\n",
      "57 %\n",
      "60 %\n",
      "62 %\n",
      "65 %\n",
      "67 %\n",
      "70 %\n",
      "72 %\n",
      "75 %\n",
      "77 %\n",
      "80 %\n",
      "82 %\n",
      "85 %\n",
      "87 %\n",
      "90 %\n",
      "92 %\n",
      "95 %\n",
      "97 %\n",
      "The best accuracy =  0.85 , achieved for K =  2\n"
     ]
    }
   ],
   "source": [
    "for l in [10,15,20,25,30,35,40]:\n",
    "    print(\"L = \", l)\n",
    "    KNN_cross_val2 = tools.l_fold_cross_validation_KNN(L=l, X=X2, Y=Y2, K=[5,10,11,15])\n",
    "    argmax = KNN_cross_val2.argmax()\n",
    "    print(\"The best accuracy = \", KNN_cross_val2.max(), \", achieved for K = \", argmax+1)"
   ]
  },
  {
   "cell_type": "markdown",
   "id": "57c84131",
   "metadata": {},
   "source": [
    "We want to understand how the size of a dataset impacts both the training and validation error.\n",
    "<br>We can see that as L increases, or more specifically when L > 5, K seems to be stabilising around 2 as it's best value, which is low when compared to our previous best value when L = 5, 13.\n",
    "<br>However, the accuracy seems to be relatively unchanged when compared to the previous accuracy we achieved when using 5-fol cross-validation."
   ]
  },
  {
   "cell_type": "markdown",
   "id": "2308d237",
   "metadata": {},
   "source": [
    "* ### L-fold cross validation with the Decision Tree algorithm on that same data with L > 5:"
   ]
  },
  {
   "cell_type": "markdown",
   "id": "01135e11",
   "metadata": {},
   "source": [
    "As for the KNN algorithm, we will run the cross_validation with a smaller range of hyperparameters:"
   ]
  },
  {
   "cell_type": "code",
   "execution_count": 141,
   "id": "62d623f9",
   "metadata": {},
   "outputs": [
    {
     "name": "stdout",
     "output_type": "stream",
     "text": [
      "L =  10\n",
      "0 %\n",
      "10 %\n",
      "20 %\n",
      "30 %\n",
      "40 %\n",
      "50 %\n",
      "60 %\n",
      "70 %\n",
      "80 %\n",
      "90 %\n",
      "Done\n",
      "Performing 10-fold-cross-validation on  144  permutations of hyperparameters took  1.345486540998536  seconds\n",
      "The best hyperparmater values are:\n"
     ]
    },
    {
     "data": {
      "text/html": [
       "<div>\n",
       "<style scoped>\n",
       "    .dataframe tbody tr th:only-of-type {\n",
       "        vertical-align: middle;\n",
       "    }\n",
       "\n",
       "    .dataframe tbody tr th {\n",
       "        vertical-align: top;\n",
       "    }\n",
       "\n",
       "    .dataframe thead th {\n",
       "        text-align: right;\n",
       "    }\n",
       "</style>\n",
       "<table border=\"1\" class=\"dataframe\">\n",
       "  <thead>\n",
       "    <tr style=\"text-align: right;\">\n",
       "      <th></th>\n",
       "      <th>criterion</th>\n",
       "      <th>splitter</th>\n",
       "      <th>max_depth</th>\n",
       "      <th>min_impurity_decrease</th>\n",
       "      <th>min_samples_leaf</th>\n",
       "      <th>accuracy</th>\n",
       "      <th>time_req</th>\n",
       "    </tr>\n",
       "  </thead>\n",
       "  <tbody>\n",
       "    <tr>\n",
       "      <th>138</th>\n",
       "      <td>entropy</td>\n",
       "      <td>random</td>\n",
       "      <td>15</td>\n",
       "      <td>0.0</td>\n",
       "      <td>1</td>\n",
       "      <td>0.780488</td>\n",
       "      <td>0.003429</td>\n",
       "    </tr>\n",
       "  </tbody>\n",
       "</table>\n",
       "</div>"
      ],
      "text/plain": [
       "    criterion splitter max_depth  min_impurity_decrease min_samples_leaf  \\\n",
       "138   entropy   random        15                    0.0                1   \n",
       "\n",
       "     accuracy  time_req  \n",
       "138  0.780488  0.003429  "
      ]
     },
     "metadata": {},
     "output_type": "display_data"
    },
    {
     "name": "stdout",
     "output_type": "stream",
     "text": [
      "\n",
      "L =  15\n",
      "0 %\n",
      "6 %\n",
      "13 %\n",
      "20 %\n",
      "26 %\n",
      "33 %\n",
      "40 %\n",
      "46 %\n",
      "53 %\n",
      "60 %\n",
      "66 %\n",
      "73 %\n",
      "80 %\n",
      "86 %\n",
      "93 %\n",
      "Done\n",
      "Performing 15-fold-cross-validation on  144  permutations of hyperparameters took  1.9023771250031132  seconds\n",
      "The best hyperparmater values are:\n"
     ]
    },
    {
     "data": {
      "text/html": [
       "<div>\n",
       "<style scoped>\n",
       "    .dataframe tbody tr th:only-of-type {\n",
       "        vertical-align: middle;\n",
       "    }\n",
       "\n",
       "    .dataframe tbody tr th {\n",
       "        vertical-align: top;\n",
       "    }\n",
       "\n",
       "    .dataframe thead th {\n",
       "        text-align: right;\n",
       "    }\n",
       "</style>\n",
       "<table border=\"1\" class=\"dataframe\">\n",
       "  <thead>\n",
       "    <tr style=\"text-align: right;\">\n",
       "      <th></th>\n",
       "      <th>criterion</th>\n",
       "      <th>splitter</th>\n",
       "      <th>max_depth</th>\n",
       "      <th>min_impurity_decrease</th>\n",
       "      <th>min_samples_leaf</th>\n",
       "      <th>accuracy</th>\n",
       "      <th>time_req</th>\n",
       "    </tr>\n",
       "  </thead>\n",
       "  <tbody>\n",
       "    <tr>\n",
       "      <th>139</th>\n",
       "      <td>entropy</td>\n",
       "      <td>random</td>\n",
       "      <td>15</td>\n",
       "      <td>0.0</td>\n",
       "      <td>5</td>\n",
       "      <td>0.790123</td>\n",
       "      <td>0.004271</td>\n",
       "    </tr>\n",
       "  </tbody>\n",
       "</table>\n",
       "</div>"
      ],
      "text/plain": [
       "    criterion splitter max_depth  min_impurity_decrease min_samples_leaf  \\\n",
       "139   entropy   random        15                    0.0                5   \n",
       "\n",
       "     accuracy  time_req  \n",
       "139  0.790123  0.004271  "
      ]
     },
     "metadata": {},
     "output_type": "display_data"
    },
    {
     "name": "stdout",
     "output_type": "stream",
     "text": [
      "\n",
      "L =  20\n",
      "0 %\n",
      "5 %\n",
      "10 %\n",
      "15 %\n",
      "20 %\n",
      "25 %\n",
      "30 %\n",
      "35 %\n",
      "40 %\n",
      "45 %\n",
      "50 %\n",
      "55 %\n",
      "60 %\n",
      "65 %\n",
      "70 %\n",
      "75 %\n",
      "80 %\n",
      "85 %\n",
      "90 %\n",
      "95 %\n",
      "Done\n",
      "Performing 20-fold-cross-validation on  144  permutations of hyperparameters took  2.526824749998923  seconds\n",
      "The best hyperparmater values are:\n"
     ]
    },
    {
     "data": {
      "text/html": [
       "<div>\n",
       "<style scoped>\n",
       "    .dataframe tbody tr th:only-of-type {\n",
       "        vertical-align: middle;\n",
       "    }\n",
       "\n",
       "    .dataframe tbody tr th {\n",
       "        vertical-align: top;\n",
       "    }\n",
       "\n",
       "    .dataframe thead th {\n",
       "        text-align: right;\n",
       "    }\n",
       "</style>\n",
       "<table border=\"1\" class=\"dataframe\">\n",
       "  <thead>\n",
       "    <tr style=\"text-align: right;\">\n",
       "      <th></th>\n",
       "      <th>criterion</th>\n",
       "      <th>splitter</th>\n",
       "      <th>max_depth</th>\n",
       "      <th>min_impurity_decrease</th>\n",
       "      <th>min_samples_leaf</th>\n",
       "      <th>accuracy</th>\n",
       "      <th>time_req</th>\n",
       "    </tr>\n",
       "  </thead>\n",
       "  <tbody>\n",
       "    <tr>\n",
       "      <th>103</th>\n",
       "      <td>entropy</td>\n",
       "      <td>best</td>\n",
       "      <td>15</td>\n",
       "      <td>0.0</td>\n",
       "      <td>5</td>\n",
       "      <td>0.7925</td>\n",
       "      <td>0.006629</td>\n",
       "    </tr>\n",
       "  </tbody>\n",
       "</table>\n",
       "</div>"
      ],
      "text/plain": [
       "    criterion splitter max_depth  min_impurity_decrease min_samples_leaf  \\\n",
       "103   entropy     best        15                    0.0                5   \n",
       "\n",
       "     accuracy  time_req  \n",
       "103    0.7925  0.006629  "
      ]
     },
     "metadata": {},
     "output_type": "display_data"
    },
    {
     "name": "stdout",
     "output_type": "stream",
     "text": [
      "\n",
      "L =  25\n",
      "0 %\n",
      "4 %\n",
      "8 %\n",
      "12 %\n",
      "16 %\n",
      "20 %\n",
      "24 %\n",
      "28 %\n",
      "32 %\n",
      "36 %\n",
      "40 %\n",
      "44 %\n",
      "48 %\n",
      "52 %\n",
      "56 %\n",
      "60 %\n",
      "64 %\n",
      "68 %\n",
      "72 %\n",
      "76 %\n",
      "80 %\n",
      "84 %\n",
      "88 %\n",
      "92 %\n",
      "96 %\n",
      "Done\n",
      "Performing 25-fold-cross-validation on  144  permutations of hyperparameters took  3.1227833750017453  seconds\n",
      "The best hyperparmater values are:\n"
     ]
    },
    {
     "data": {
      "text/html": [
       "<div>\n",
       "<style scoped>\n",
       "    .dataframe tbody tr th:only-of-type {\n",
       "        vertical-align: middle;\n",
       "    }\n",
       "\n",
       "    .dataframe tbody tr th {\n",
       "        vertical-align: top;\n",
       "    }\n",
       "\n",
       "    .dataframe thead th {\n",
       "        text-align: right;\n",
       "    }\n",
       "</style>\n",
       "<table border=\"1\" class=\"dataframe\">\n",
       "  <thead>\n",
       "    <tr style=\"text-align: right;\">\n",
       "      <th></th>\n",
       "      <th>criterion</th>\n",
       "      <th>splitter</th>\n",
       "      <th>max_depth</th>\n",
       "      <th>min_impurity_decrease</th>\n",
       "      <th>min_samples_leaf</th>\n",
       "      <th>accuracy</th>\n",
       "      <th>time_req</th>\n",
       "    </tr>\n",
       "  </thead>\n",
       "  <tbody>\n",
       "    <tr>\n",
       "      <th>102</th>\n",
       "      <td>entropy</td>\n",
       "      <td>best</td>\n",
       "      <td>15</td>\n",
       "      <td>0.0</td>\n",
       "      <td>1</td>\n",
       "      <td>0.795</td>\n",
       "      <td>0.0102</td>\n",
       "    </tr>\n",
       "  </tbody>\n",
       "</table>\n",
       "</div>"
      ],
      "text/plain": [
       "    criterion splitter max_depth  min_impurity_decrease min_samples_leaf  \\\n",
       "102   entropy     best        15                    0.0                1   \n",
       "\n",
       "     accuracy  time_req  \n",
       "102     0.795    0.0102  "
      ]
     },
     "metadata": {},
     "output_type": "display_data"
    },
    {
     "name": "stdout",
     "output_type": "stream",
     "text": [
      "\n",
      "L =  30\n",
      "0 %\n",
      "3 %\n",
      "6 %\n",
      "10 %\n",
      "13 %\n",
      "16 %\n",
      "20 %\n",
      "23 %\n",
      "26 %\n",
      "30 %\n",
      "33 %\n",
      "36 %\n",
      "40 %\n",
      "43 %\n",
      "46 %\n",
      "50 %\n",
      "53 %\n",
      "56 %\n",
      "60 %\n",
      "63 %\n",
      "66 %\n",
      "70 %\n",
      "73 %\n",
      "76 %\n",
      "80 %\n",
      "83 %\n",
      "86 %\n",
      "90 %\n",
      "93 %\n",
      "96 %\n",
      "Done\n",
      "Performing 30-fold-cross-validation on  144  permutations of hyperparameters took  3.6685095409993664  seconds\n",
      "The best hyperparmater values are:\n"
     ]
    },
    {
     "data": {
      "text/html": [
       "<div>\n",
       "<style scoped>\n",
       "    .dataframe tbody tr th:only-of-type {\n",
       "        vertical-align: middle;\n",
       "    }\n",
       "\n",
       "    .dataframe tbody tr th {\n",
       "        vertical-align: top;\n",
       "    }\n",
       "\n",
       "    .dataframe thead th {\n",
       "        text-align: right;\n",
       "    }\n",
       "</style>\n",
       "<table border=\"1\" class=\"dataframe\">\n",
       "  <thead>\n",
       "    <tr style=\"text-align: right;\">\n",
       "      <th></th>\n",
       "      <th>criterion</th>\n",
       "      <th>splitter</th>\n",
       "      <th>max_depth</th>\n",
       "      <th>min_impurity_decrease</th>\n",
       "      <th>min_samples_leaf</th>\n",
       "      <th>accuracy</th>\n",
       "      <th>time_req</th>\n",
       "    </tr>\n",
       "  </thead>\n",
       "  <tbody>\n",
       "    <tr>\n",
       "      <th>14</th>\n",
       "      <td>gini</td>\n",
       "      <td>best</td>\n",
       "      <td>10</td>\n",
       "      <td>0.0</td>\n",
       "      <td>10</td>\n",
       "      <td>0.787179</td>\n",
       "      <td>0.00912</td>\n",
       "    </tr>\n",
       "  </tbody>\n",
       "</table>\n",
       "</div>"
      ],
      "text/plain": [
       "   criterion splitter max_depth  min_impurity_decrease min_samples_leaf  \\\n",
       "14      gini     best        10                    0.0               10   \n",
       "\n",
       "    accuracy  time_req  \n",
       "14  0.787179   0.00912  "
      ]
     },
     "metadata": {},
     "output_type": "display_data"
    },
    {
     "name": "stdout",
     "output_type": "stream",
     "text": [
      "\n",
      "L =  35\n",
      "0 %\n",
      "2 %\n",
      "5 %\n",
      "8 %\n",
      "11 %\n",
      "14 %\n",
      "17 %\n",
      "20 %\n",
      "22 %\n",
      "25 %\n",
      "28 %\n",
      "31 %\n",
      "34 %\n",
      "37 %\n",
      "40 %\n",
      "42 %\n",
      "45 %\n",
      "48 %\n",
      "51 %\n",
      "54 %\n",
      "57 %\n",
      "60 %\n",
      "62 %\n",
      "65 %\n",
      "68 %\n",
      "71 %\n",
      "74 %\n",
      "77 %\n",
      "80 %\n",
      "82 %\n",
      "85 %\n",
      "88 %\n",
      "91 %\n",
      "94 %\n",
      "97 %\n",
      "Done\n",
      "Performing 35-fold-cross-validation on  144  permutations of hyperparameters took  4.246664791000512  seconds\n",
      "The best hyperparmater values are:\n"
     ]
    },
    {
     "data": {
      "text/html": [
       "<div>\n",
       "<style scoped>\n",
       "    .dataframe tbody tr th:only-of-type {\n",
       "        vertical-align: middle;\n",
       "    }\n",
       "\n",
       "    .dataframe tbody tr th {\n",
       "        vertical-align: top;\n",
       "    }\n",
       "\n",
       "    .dataframe thead th {\n",
       "        text-align: right;\n",
       "    }\n",
       "</style>\n",
       "<table border=\"1\" class=\"dataframe\">\n",
       "  <thead>\n",
       "    <tr style=\"text-align: right;\">\n",
       "      <th></th>\n",
       "      <th>criterion</th>\n",
       "      <th>splitter</th>\n",
       "      <th>max_depth</th>\n",
       "      <th>min_impurity_decrease</th>\n",
       "      <th>min_samples_leaf</th>\n",
       "      <th>accuracy</th>\n",
       "      <th>time_req</th>\n",
       "    </tr>\n",
       "  </thead>\n",
       "  <tbody>\n",
       "    <tr>\n",
       "      <th>102</th>\n",
       "      <td>entropy</td>\n",
       "      <td>best</td>\n",
       "      <td>15</td>\n",
       "      <td>0.0</td>\n",
       "      <td>1</td>\n",
       "      <td>0.784416</td>\n",
       "      <td>0.013869</td>\n",
       "    </tr>\n",
       "  </tbody>\n",
       "</table>\n",
       "</div>"
      ],
      "text/plain": [
       "    criterion splitter max_depth  min_impurity_decrease min_samples_leaf  \\\n",
       "102   entropy     best        15                    0.0                1   \n",
       "\n",
       "     accuracy  time_req  \n",
       "102  0.784416  0.013869  "
      ]
     },
     "metadata": {},
     "output_type": "display_data"
    },
    {
     "name": "stdout",
     "output_type": "stream",
     "text": [
      "\n",
      "L =  40\n",
      "0 %\n",
      "2 %\n",
      "5 %\n",
      "7 %\n",
      "10 %\n",
      "12 %\n",
      "15 %\n",
      "17 %\n",
      "20 %\n",
      "22 %\n",
      "25 %\n",
      "27 %\n",
      "30 %\n",
      "32 %\n",
      "35 %\n",
      "37 %\n",
      "40 %\n",
      "42 %\n",
      "45 %\n",
      "47 %\n",
      "50 %\n",
      "52 %\n",
      "55 %\n",
      "57 %\n",
      "60 %\n",
      "62 %\n",
      "65 %\n",
      "67 %\n",
      "70 %\n",
      "72 %\n",
      "75 %\n",
      "77 %\n",
      "80 %\n",
      "82 %\n",
      "85 %\n",
      "87 %\n",
      "90 %\n",
      "92 %\n",
      "95 %\n",
      "97 %\n",
      "Done\n",
      "Performing 40-fold-cross-validation on  144  permutations of hyperparameters took  4.804851332999533  seconds\n",
      "The best hyperparmater values are:\n"
     ]
    },
    {
     "data": {
      "text/html": [
       "<div>\n",
       "<style scoped>\n",
       "    .dataframe tbody tr th:only-of-type {\n",
       "        vertical-align: middle;\n",
       "    }\n",
       "\n",
       "    .dataframe tbody tr th {\n",
       "        vertical-align: top;\n",
       "    }\n",
       "\n",
       "    .dataframe thead th {\n",
       "        text-align: right;\n",
       "    }\n",
       "</style>\n",
       "<table border=\"1\" class=\"dataframe\">\n",
       "  <thead>\n",
       "    <tr style=\"text-align: right;\">\n",
       "      <th></th>\n",
       "      <th>criterion</th>\n",
       "      <th>splitter</th>\n",
       "      <th>max_depth</th>\n",
       "      <th>min_impurity_decrease</th>\n",
       "      <th>min_samples_leaf</th>\n",
       "      <th>accuracy</th>\n",
       "      <th>time_req</th>\n",
       "    </tr>\n",
       "  </thead>\n",
       "  <tbody>\n",
       "    <tr>\n",
       "      <th>86</th>\n",
       "      <td>entropy</td>\n",
       "      <td>best</td>\n",
       "      <td>10</td>\n",
       "      <td>0.0</td>\n",
       "      <td>10</td>\n",
       "      <td>0.8125</td>\n",
       "      <td>0.0123</td>\n",
       "    </tr>\n",
       "  </tbody>\n",
       "</table>\n",
       "</div>"
      ],
      "text/plain": [
       "   criterion splitter max_depth  min_impurity_decrease min_samples_leaf  \\\n",
       "86   entropy     best        10                    0.0               10   \n",
       "\n",
       "    accuracy  time_req  \n",
       "86    0.8125    0.0123  "
      ]
     },
     "metadata": {},
     "output_type": "display_data"
    },
    {
     "name": "stdout",
     "output_type": "stream",
     "text": [
      "\n"
     ]
    }
   ],
   "source": [
    "for l in [10,15,20,25,30,35,40]:\n",
    "    print(\"L = \", l)\n",
    "    DT_cross_val2 = tools.l_fold_cross_validation_DT(L=l, X=X2, Y=Y2,criterion=[\"gini\", \"entropy\"],splitter=[\"best\",\"random\"],max_depth=[10,15],min_impurity_decrease=[0.1,0.025,0],min_samples_leaf=[1,5,10,15,20,25])\n",
    "    best_hp2 = DT_cross_val2[DT_cross_val2.accuracy == DT_cross_val2.accuracy.max()]\n",
    "    # if we have a tie of best hyperparameters, choose the one with the fastest time\n",
    "    if best_hp2.shape[0]>1:\n",
    "        best_hp2 = best_hp2[best_hp2.time_req == best_hp2.time_req.min()]\n",
    "    print(\"The best hyperparmater values are:\")\n",
    "    display(best_hp2)\n",
    "    print()"
   ]
  },
  {
   "cell_type": "markdown",
   "id": "acc74a69",
   "metadata": {},
   "source": [
    "We want to understand how the size of a dataset impacts both the training and validation error\n",
    "<br>Looking at the above tables, we notice that as L increases, some hyperparameters that lead to optimal results are different than when L = 5 (Maximum depth has decreased significantly from 30 to about 10-15,  ...). As for the accuracy, it increases a bit (~2.1% on average when L > 5) although this doesn't necessarily imply a correlation between the two."
   ]
  },
  {
   "cell_type": "markdown",
   "id": "451e3e76",
   "metadata": {},
   "source": [
    "### Applying our model on unseen data:"
   ]
  },
  {
   "cell_type": "markdown",
   "id": "5907e7ca",
   "metadata": {},
   "source": [
    "Now, let's check our performance on the test data. Unlike our first dataset where the test data was located in a seperate file, in this case we have already split the data into train set and test set. Thus, we can jump right into it:"
   ]
  },
  {
   "cell_type": "markdown",
   "id": "0725e175",
   "metadata": {},
   "source": [
    "* ### KNN on unseen data:"
   ]
  },
  {
   "cell_type": "markdown",
   "id": "232b51da",
   "metadata": {},
   "source": [
    "We now run our KNN model on unseen data using the optimal K we have found earlier (13):"
   ]
  },
  {
   "cell_type": "code",
   "execution_count": 160,
   "id": "96c6ee25",
   "metadata": {},
   "outputs": [
    {
     "name": "stdout",
     "output_type": "stream",
     "text": [
      "For k =  13 the accuracy on the test data is:  0.3605769230769231\n"
     ]
    }
   ],
   "source": [
    "# KNN\n",
    "# see training data results on KNN using K=13\n",
    "KNN_classifier2 = KNN(n_neighbors=13)\n",
    "KNN_classifier2.fit(X2, Y2) # fit the model using training data\n",
    "Y_prediction2 = KNN_classifier2.predict(X2_test) # predict test data\n",
    "accuracy2 = Y_prediction2 == Y2_test\n",
    "accuracy2 = np.sum(accuracy2)  # number of correct predictions\n",
    "score2 = accuracy2 / X2_test.shape[0]  # ratio of correct prediction\n",
    "print(\"For k = \", k, \"the accuracy on the test data is: \", score2)"
   ]
  },
  {
   "cell_type": "markdown",
   "id": "07d59cb0",
   "metadata": {},
   "source": [
    "Based on those results, we can estimate an accuracy of 36.06% on unseen data with our KNN model."
   ]
  },
  {
   "cell_type": "markdown",
   "id": "56dd1ba9",
   "metadata": {},
   "source": [
    "* ### Decision Tree algorithm on unseen data:"
   ]
  },
  {
   "cell_type": "markdown",
   "id": "521af062",
   "metadata": {},
   "source": [
    "Using the best hyperparameters for our model when L = 5, we run our Decision Tree algorithm on unseen data:"
   ]
  },
  {
   "cell_type": "code",
   "execution_count": 159,
   "id": "41ec22e8",
   "metadata": {},
   "outputs": [
    {
     "name": "stdout",
     "output_type": "stream",
     "text": [
      "For the best hyperparameters, the accuracy is:  0.46634615384615385\n"
     ]
    }
   ],
   "source": [
    "# DT\n",
    "# predict on test data using best hyperparameters\n",
    "DT_classifier2 = DT(criterion=\"entropy\", splitter=\"best\", max_depth=30,\n",
    "                min_impurity_decrease=0, min_samples_leaf=5)\n",
    "DT_classifier2.fit(X2, Y2)\n",
    "Y_prediction2 = DT_classifier2.predict(X2_test)\n",
    "accuracy2 = Y_prediction2 == Y2_test\n",
    "accuracy2 = np.sum(accuracy2)  # number of correct predictions\n",
    "score2 = accuracy2/X2_test.shape[0]\n",
    "print(\"For the best hyperparameters, the accuracy is: \", score2)"
   ]
  },
  {
   "cell_type": "markdown",
   "id": "7f6d3cc4",
   "metadata": {},
   "source": [
    "<br>Assuming our model performs best under these parameters, we can estimate an accuracy of 46.63% on unseen data with our Decision Tree model."
   ]
  }
 ],
 "metadata": {
  "kernelspec": {
   "display_name": "Python 3 (ipykernel)",
   "language": "python",
   "name": "python3"
  },
  "language_info": {
   "codemirror_mode": {
    "name": "ipython",
    "version": 3
   },
   "file_extension": ".py",
   "mimetype": "text/x-python",
   "name": "python",
   "nbconvert_exporter": "python",
   "pygments_lexer": "ipython3",
   "version": "3.9.1"
  }
 },
 "nbformat": 4,
 "nbformat_minor": 5
}
